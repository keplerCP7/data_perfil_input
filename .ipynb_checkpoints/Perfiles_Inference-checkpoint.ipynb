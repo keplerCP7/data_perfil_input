{
 "cells": [
  {
   "cell_type": "code",
   "execution_count": null,
   "metadata": {},
   "outputs": [],
   "source": [
    "from pyspark import SparkContext\n",
    "from pyspark import SQLContext\n",
    "\n",
    "sqlContext = SQLContext(sparkContext=sc)"
   ]
  },
  {
   "cell_type": "code",
   "execution_count": 2,
   "metadata": {},
   "outputs": [],
   "source": [
    "def CalculaAnioCampana(aniocampana, delta):\n",
    "    resultado = str(int(aniocampana)).strip()\n",
    "    numero = int(resultado[:4])*18 + int(resultado[-2:]) + delta\n",
    "    anio = str(numero//18)\n",
    "    campana =str(numero%18).zfill(2)\n",
    "    resultado = anio + campana\n",
    "    return resultado"
   ]
  },
  {
   "cell_type": "code",
   "execution_count": 3,
   "metadata": {},
   "outputs": [],
   "source": [
    "codpais = 'PE' \n",
    "aniocampanaproceso = '201801'\n",
    "\n",
    "aniocampanaproceso_menos5 = CalculaAnioCampana(aniocampanaproceso, -5)\n",
    "aniocampanaexposicion = aniocampanaproceso"
   ]
  },
  {
   "cell_type": "code",
   "execution_count": 4,
   "metadata": {},
   "outputs": [],
   "source": [
    "dmatrizcampana = sqlContext.read.parquet(\"s3://hdata-belcorp/modelo-analitico-parquet/dwh_dmatrizcampana/\")\n",
    "fvtaproebecam = sqlContext.read.parquet(\"s3://hdata-belcorp/modelo-analitico-parquet/dwh_fvtaproebecam/\")\n",
    "dtipooferta = sqlContext.read.parquet(\"s3://hdata-belcorp/modelo-analitico-parquet/dwh_dtipooferta/\")\n",
    "dpais = sqlContext.read.parquet(\"s3://hdata-belcorp/modelo-analitico-parquet/dwh_dpais/\")\n",
    "dproducto = sqlContext.read.parquet(\"s3://hdata-belcorp/modelo-analitico-parquet/dwh_dproducto/\")"
   ]
  },
  {
   "cell_type": "code",
   "execution_count": 5,
   "metadata": {
    "scrolled": true
   },
   "outputs": [],
   "source": [
    "dmatrizcampana.registerTempTable(\"dmatrizcampana\")\n",
    "fvtaproebecam.registerTempTable(\"fvtaproebecam\")\n",
    "dtipooferta.registerTempTable(\"dtipooferta\")\n",
    "dpais.registerTempTable(\"dpais\")\n",
    "dproducto.registerTempTable(\"dproducto\")"
   ]
  },
  {
   "cell_type": "code",
   "execution_count": 6,
   "metadata": {},
   "outputs": [],
   "source": [
    "dpais_proceso = sqlContext.sql(\"Select codpais from dpais where codpais = '\" + codpais + \"'\")"
   ]
  },
  {
   "cell_type": "code",
   "execution_count": 7,
   "metadata": {},
   "outputs": [],
   "source": [
    "df_cusvalidos = sqlContext.sql(\" Select a.CodPais, a.AnioCampana, a.CodVenta from dmatrizcampana a \"\n",
    "                               \" inner join dpais b on a.codpais=b.codpais \"  \n",
    "                               \" where a.aniocampana >= '\" + aniocampanaproceso_menos5 + \"' \"\n",
    "                               \" and a.aniocampana <= '\" + aniocampanaproceso + \"' \"\n",
    "                               \" and a.codventa <> '00000' \"\n",
    "                               \" group by a.codpais, a.aniocampana, a.codventa \")\n",
    "\n",
    "df_cusvalidos.registerTempTable(\"cusvalidos\")"
   ]
  },
  {
   "cell_type": "code",
   "execution_count": 8,
   "metadata": {},
   "outputs": [],
   "source": [
    "df_tipoofertavalidos = sqlContext.sql(\" Select codpais, codtipooferta from dtipooferta \"\n",
    "                                   \" where codtipooferta not in ('030','031','040','051','061', \"\n",
    "                                   \" '062','065','066','068','071','072','077','078','079','082','083', \"\n",
    "                                   \" '085','090','093','099','109','050','082','091','098') \"\n",
    "                                   \" and codtipoprofit='01' \"\n",
    "                                   \" and codpais = '\" + codpais + \"' \"\n",
    "                                   \" group by codpais, codtipooferta \")\n",
    "\n",
    "df_tipoofertavalidos.registerTempTable(\"tipoofertavalidos\")"
   ]
  },
  {
   "cell_type": "code",
   "execution_count": 9,
   "metadata": {},
   "outputs": [],
   "source": [
    "df_productos=sqlContext.sql(\" Select codmarca, codsap from dproducto \"\n",
    "                              \" where DesCategoria in ('CUIDADO PERSONAL','FRAGANCIAS','MAQUILLAJE', \" \n",
    "                              \" 'TRATAMIENTO CORPORAL','TRATAMIENTO FACIAL') and codmarca in ('A','B','C') \")\n",
    "\n",
    "df_productos.registerTempTable(\"productos\")"
   ]
  },
  {
   "cell_type": "code",
   "execution_count": 10,
   "metadata": {},
   "outputs": [],
   "source": [
    "df_conteomarcas=sqlContext.sql(\" Select '\" + aniocampanaexposicion + \"' aniocampanaexposicion,'\" + aniocampanaproceso + \"' as aniocampanaproceso \"\n",
    "                               \" , a.codpais, a.codebelista, e.codmarca, count(distinct a.aniocampana) nropedidos \"\n",
    "                               \" , sum(a.realuuvendidas) realuuvendidas, sum(a.realuuvendidas)/(count(distinct a.aniocampana)*1.0) pup \"\n",
    "                               \" , sum(a.realvtamnneto/a.realtcpromedio)/(count(distinct a.aniocampana)*1.0) psp \"\n",
    "                               \" , sum(a.realvtamnneto/a.realtcpromedio)/sum(a.realuuvendidas*1.0) ppu \"\n",
    "                               \" from fvtaproebecam a inner join productos e on a.codsap=e.codsap \"\n",
    "                               \" inner join cusvalidos cv on a.aniocampana = cv.aniocampana and a.codventa=cv.codventa \"\n",
    "                               \" inner join tipoofertavalidos tof on a.codtipooferta = tof.codtipooferta \"                        \n",
    "                               \" where a.aniocampana=a.aniocampanaref and a.codpais='\" + codpais +\"' and a.aniocampana between '\" + aniocampanaproceso_menos5 +\"' \"\n",
    "                               \" and '\" + aniocampanaproceso +\"' \"\n",
    "                               \" group by a.codpais, a.codebelista, e.codmarca having sum(a.realuuvendidas)>0 \")\n",
    "\n",
    "df_conteomarcas.registerTempTable(\"conteomarcas\")"
   ]
  },
  {
   "cell_type": "code",
   "execution_count": 11,
   "metadata": {},
   "outputs": [],
   "source": [
    "df_pivot1 = sqlContext.sql(\" select aniocampanaexposicion, aniocampanaproceso, codpais, codebelista, codmarca, \"\n",
    "                           \" max(cast(pup as decimal(12,4))) as pup, max(cast(ppu as decimal(12,4))) as ppu \"\n",
    "                           \" from conteomarcas \"\n",
    "                           \" group by aniocampanaexposicion, aniocampanaproceso, codpais, codebelista, codmarca\")\n",
    "\n",
    "df_pivot1.registerTempTable(\"pivot\")"
   ]
  },
  {
   "cell_type": "code",
   "execution_count": 12,
   "metadata": {},
   "outputs": [],
   "source": [
    "df_tempomarcas_pup = sqlContext.sql(\" Select aniocampanaexposicion, aniocampanaproceso, codpais, codebelista, \"\n",
    "                                 \" sum(case when codmarca='A' then cast(pup as decimal(12,4)) else 0 end) as pup_lbel, \"\n",
    "                                 \" sum(case when codmarca='B' then cast(pup as decimal(12,4)) else 0 end) as pup_esika, \"\n",
    "                                 \" sum(case when codmarca='C' then cast(pup as decimal(12,4)) else 0 end) as pup_cyzone\"\n",
    "                                 \" from pivot \"\n",
    "                                 \" group by aniocampanaexposicion, aniocampanaproceso, codpais, codebelista \")\n",
    "\n",
    "df_tempomarcas_pup.registerTempTable(\"tempomarcas_pup\")"
   ]
  },
  {
   "cell_type": "code",
   "execution_count": 13,
   "metadata": {},
   "outputs": [],
   "source": [
    "df_tempomarcas_ppu = sqlContext.sql(\" Select aniocampanaexposicion, aniocampanaproceso, codpais, codebelista, \"\n",
    "                                 \" sum(case when codmarca='A' then cast(ppu as decimal(12,4)) else 0 end) as ppu_lbel, \"\n",
    "                                 \" sum(case when codmarca='B' then cast(ppu as decimal(12,4)) else 0 end) as ppu_esika, \"\n",
    "                                 \" sum(case when codmarca='C' then cast(ppu as decimal(12,4)) else 0 end) as ppu_cyzone\"\n",
    "                                 \" from pivot \"\n",
    "                                 \" group by aniocampanaexposicion, aniocampanaproceso, codpais, codebelista \")\n",
    "\n",
    "df_tempomarcas_ppu.registerTempTable(\"tempomarcas_ppu\")\n",
    "\n",
    "sqlContext.dropTempTable(\"pivot\")"
   ]
  },
  {
   "cell_type": "code",
   "execution_count": 14,
   "metadata": {},
   "outputs": [],
   "source": [
    "df_tempomarcas = sqlContext.sql(\" Select a.aniocampanaexposicion, a.aniocampanaproceso, a.codpais, a.codebelista, \"\n",
    "                                \" a.pup_lbel, a.pup_esika, a.pup_cyzone, b.ppu_lbel, b.ppu_esika, b.ppu_cyzone \"\n",
    "                                \" from tempomarcas_pup a \"\n",
    "                                \" inner join tempomarcas_ppu b on a.codpais=b.codpais and a.aniocampanaexposicion=b.aniocampanaexposicion \"\n",
    "                                \" and a.aniocampanaproceso=b.aniocampanaproceso and a.codebelista=b.codebelista \")\n",
    "\n",
    "df_tempomarcas.registerTempTable(\"tempomarcas\")\n",
    "\n",
    "\n",
    "sqlContext.dropTempTable(\"tempomarcas_ppu\")\n",
    "sqlContext.dropTempTable(\"tempomarcas_pup\")\n"
   ]
  },
  {
   "cell_type": "code",
   "execution_count": 15,
   "metadata": {},
   "outputs": [],
   "source": [
    "df_conteocategorias = sqlContext.sql(\" select '\" + aniocampanaexposicion + \"' as aniocampanaexposicion, '\" + aniocampanaproceso + \"' as aniocampanaproceso, \" \n",
    "               \" a.codpais, a.codebelista, e.descategoria, case when e.descategoria = 'CUIDADO PERSONAL' then 'CP' \"\n",
    "               \" when e.descategoria = 'FRAGANCIAS' then 'FG' \"\n",
    "               \" when e.descategoria = 'MAQUILLAJE' then 'MQ' \"\n",
    "               \" when e.descategoria = 'TRATAMIENTO CORPORAL' then 'TC' \"\n",
    "               \" when e.descategoria = 'TRATAMIENTO FACIAL' then 'TF' end codcategoria, \"\n",
    "               \" count(distinct a.aniocampana) as nropedidos, \"\n",
    "               \" sum(a.realuuvendidas) as realuuvendidas, \"\n",
    "               \" sum(a.realuuvendidas)/(count(distinct a.AnioCampana)*1.0) as pup, \"\n",
    "               \" sum(a.realvtamnneto/a.realtcpromedio)/(COUNT(distinct a.aniocampana)*1.0) as psp, \"\n",
    "               \" sum(a.realVtamnneto/a.realtcpromedio)/SUM(a.realuuvendidas*1.0) as ppu \"\n",
    "               \" from fvtaproebecam a inner join dproducto e on e.codsap=a.codsap \"\n",
    "               \" inner join cusvalidos cv on a.codventa=cv.codventa \"\n",
    "               \" inner join tipoofertavalidos tof on a.codpais=tof.codpais and a.codtipooferta=tof.codtipooferta \"\n",
    "               \" where a.aniocampana=a.aniocampanaref and a.aniocampana between '\" + aniocampanaproceso_menos5 + \"' and '\" + aniocampanaproceso + \"' \"\n",
    "               \" and e.descategoria in ('CUIDADO PERSONAL','FRAGANCIAS','MAQUILLAJE','TRATAMIENTO CORPORAL','TRATAMIENTO FACIAL') \"\n",
    "               \" group by a.codpais, a.codebelista, e.descategoria, case when e.descategoria = 'CUIDADO PERSONAL' then 'CP' \"\n",
    "                                                                          \"when e.descategoria = 'FRAGANCIAS' then 'FG'\"\n",
    "                                                                          \"when e.descategoria = 'MAQUILLAJE' then 'MQ' \"\n",
    "                                                                          \"when e.descategoria = 'TRATAMIENTO CORPORAL' then 'TC' \"\n",
    "                                                                          \"when e.descategoria = 'TRATAMIENTO FACIAL' then 'TF' end \"\n",
    "               \" having sum(a.realuuvendidas)>0 \")\n",
    "\n",
    "df_conteocategorias.registerTempTable(\"conteocategorias\")"
   ]
  },
  {
   "cell_type": "code",
   "execution_count": 16,
   "metadata": {},
   "outputs": [],
   "source": [
    "df_pivot1 = sqlContext.sql(\" select aniocampanaexposicion, aniocampanaproceso, codpais, codebelista, codcategoria, \"\n",
    "                           \" avg(cast(pup as decimal(12,4))) as pup, avg(cast(ppu as decimal(12,4))) as ppu \"\n",
    "                           \" from conteocategorias \"\n",
    "                           \" group by aniocampanaexposicion, aniocampanaproceso, codpais, codebelista, codcategoria\")\n",
    "\n",
    "df_pivot1.registerTempTable(\"pivot\")\n",
    "sqlContext.dropTempTable(\"conteocategorias\")"
   ]
  },
  {
   "cell_type": "code",
   "execution_count": 17,
   "metadata": {},
   "outputs": [],
   "source": [
    "df_tempocategoria_pup = sqlContext.sql(\"select aniocampanaexposicion, aniocampanaproceso, codpais, codebelista, \"\n",
    "               \" sum(CASE WHEN codcategoria='CP' THEN cast(pup as decimal(12,4)) else 0 end) as pup_cp, \"\n",
    "               \" sum(CASE WHEN codcategoria='FG' THEN cast(pup as decimal(12,4)) else 0 end) as pup_fg, \"\n",
    "               \" sum(CASE WHEN codcategoria='MQ' THEN cast(pup as decimal(12,4)) else 0 end) as pup_mq, \"\n",
    "               \" sum(CASE WHEN codcategoria='TC' THEN cast(pup as decimal(12,4)) else 0 end) as pup_tc, \"\n",
    "               \" sum(CASE WHEN codcategoria='TF' THEN cast(pup as decimal(12,4)) else 0 end) as pup_tf \"\n",
    "               \" from pivot \"\n",
    "               \"group by aniocampanaexposicion, aniocampanaproceso, codpais, codebelista \")\n",
    "\n",
    "df_tempocategoria_pup.registerTempTable(\"tempocategoria_pup\")"
   ]
  },
  {
   "cell_type": "code",
   "execution_count": 18,
   "metadata": {},
   "outputs": [],
   "source": [
    "df_tempocategoria_ppu = sqlContext.sql(\" select aniocampanaexposicion, aniocampanaproceso, codpais, codebelista, \"\n",
    "               \"sum(CASE WHEN codcategoria='CP' THEN cast(ppu as decimal(12,4)) else 0 end) as ppu_cp, \"\n",
    "               \"sum(CASE WHEN codcategoria='FG' THEN cast(ppu as decimal(12,4)) else 0 end) as ppu_fg, \"\n",
    "               \"sum(CASE WHEN codcategoria='MQ' THEN cast(ppu as decimal(12,4)) else 0 end) as ppu_mq, \"\n",
    "               \"sum(CASE WHEN codcategoria='TC' THEN cast(ppu as decimal(12,4)) else 0 end) as ppu_tc, \"\n",
    "               \"sum(CASE WHEN codcategoria='TF' THEN cast(ppu as decimal(12,4)) else 0 end) as ppu_tf \"\n",
    "               \"FROM pivot \"\n",
    "               \"group by aniocampanaexposicion, aniocampanaproceso, codpais, codebelista \")\n",
    "\n",
    "df_tempocategoria_ppu.registerTempTable(\"tempoCategoria_ppu\")\n",
    "sqlContext.dropTempTable(\"pivot\")"
   ]
  },
  {
   "cell_type": "code",
   "execution_count": 19,
   "metadata": {},
   "outputs": [],
   "source": [
    "df_tempocategoria = sqlContext.sql(\" select a.aniocampanaexposicion, a.aniocampanaproceso, a.codpais, a.codebelista, \"\n",
    "               \" a.pup_cp, a.pup_fg, a.pup_mq, a.pup_tc, a.pup_tf, b.ppu_cp, b.ppu_fg, b.ppu_mq, b.ppu_tc, b.ppu_tf \"\n",
    "               \" from tempocategoria_pup a \"\n",
    "               \" inner join tempoCategoria_ppu b \"\n",
    "               \" on a.codpais = b.codpais \"\n",
    "               \" and a.aniocampanaexposicion = b.aniocampanaexposicion \"\n",
    "               \" and a.aniocampanaproceso = b.aniocampanaproceso \"\n",
    "               \" and a.codebelista= b.codebelista \")\n",
    "\n",
    "df_tempocategoria.registerTempTable(\"tempocategoria\")\n",
    "sqlContext.dropTempTable(\"tempocategoria_pup\")\n",
    "sqlContext.dropTempTable(\"tempoCategoria_ppu\")"
   ]
  },
  {
   "cell_type": "code",
   "execution_count": 20,
   "metadata": {},
   "outputs": [],
   "source": [
    "df_conteomarcacategorias = sqlContext.sql(\" select '\" + aniocampanaexposicion + \"' as aniocampanaexposicion, '\" + aniocampanaproceso + \"' as aniocampanaproceso, \"\n",
    "               \" a.codpais, a.codebelista, e.codmarca, e.descategoria, case when e.descategoria = 'CUIDADO PERSONAL' then 'CP' \"\n",
    "               \" when e.descategoria = 'FRAGANCIAS' then 'FG' \"\n",
    "               \" when e.descategoria = 'MAQUILLAJE' then 'MQ' \"\n",
    "               \" when e.descategoria = 'TRATAMIENTO CORPORAL' then 'TC' \"\n",
    "               \" when e.descategoria = 'TRATAMIENTO FACIAL' then 'TF' end codcategoria, \"\n",
    "               \" rtrim(ltrim(e.codmarca))+case when e.descategoria = 'CUIDADO PERSONAL' then 'CP' \"\n",
    "                                             \"when e.descategoria = 'FRAGANCIAS' then 'FG' \"\n",
    "                                             \"when e.descategoria = 'MAQUILLAJE' then 'MQ' \"\n",
    "                                             \"when e.descategoria = 'TRATAMIENTO CORPORAL' then 'TC' \"\n",
    "                                             \"when e.descategoria = 'TRATAMIENTO FACIAL' then 'TF' end codmarcacategoria, \"\n",
    "               \" count(distinct a.aniocampana) as nropedidos, \"\n",
    "               \" sum(a.realuuvendidas) as realuuvendidas, \"\n",
    "               \" sum(a.realuuvendidas)/(count(distinct a.aniocampana)*1.0) as pup, \"\n",
    "               \" sum(a.realvtamnneto/a.realtcpromedio)/(COUNT(distinct a.anioCampana)*1.0) as psp, \"\n",
    "               \" sum(a.realvtamnneto/a.realtcpromedio)/SUM(a.realuuvendidas*1.0) as ppu \"\n",
    "               \" from fvtaproebecam a \"\n",
    "               \" inner join dproducto e on a.codsap=e.codsap \"\n",
    "               \" inner join cusvalidos cv on a.codventa=cv.codventa \"\n",
    "               \" inner join tipoofertavalidos tof on a.codpais = tof.codpais and a.codtipooferta = tof.codtipooferta \"               \n",
    "               \" where a.aniocampana=a.aniocampanaref \"\n",
    "               \" and a.aniocampana between '\" + aniocampanaproceso_menos5 +\"' and '\" + aniocampanaproceso + \"' \"\n",
    "               \" and e.codmarca in ('A','B','C') \"\n",
    "               \" and e.descategoria in ('CUIDADO PERSONAL','FRAGANCIAS','MAQUILLAJE','TRATAMIENTO CORPORAL','TRATAMIENTO FACIAL') \"\n",
    "               \" group by a.codpais, a.codebelista, e.codmarca, e.descategoria, case when e.descategoria = 'CUIDADO PERSONAL' then 'CP' \"\n",
    "                                                                                      \"when e.descategoria = 'FRAGANCIAS' then 'FG' \"\n",
    "                                                                                      \"when e.descategoria = 'MAQUILLAJE' then 'MQ' \"\n",
    "                                                                                      \"when e.descategoria = 'TRATAMIENTO CORPORAL' then 'TC' \"\n",
    "                                                                                      \"when e.descategoria = 'TRATAMIENTO FACIAL' then 'TF' end \"\n",
    "               \" having sum(a.realuuvendidas)>0 \")\n",
    "\n",
    "df_conteomarcacategorias.registerTempTable(\"conteomarcacategorias\")\n",
    "sqlContext.dropTempTable(\"cusvalidos\")\n",
    "sqlContext.dropTempTable(\"tipoofertavalidos\")"
   ]
  },
  {
   "cell_type": "code",
   "execution_count": 21,
   "metadata": {},
   "outputs": [],
   "source": [
    "df_pivot1 = sqlContext.sql(\" Select aniocampanaexposicion, aniocampanaproceso, codpais, codebelista, codmarcacategoria, \"\n",
    "               \" avg(cast(pup as decimal(12,4))) as pup, avg(cast(ppu as decimal(12,4))) as ppu \"\n",
    "               \" from conteomarcacategorias \"\n",
    "               \" group by aniocampanaexposicion, aniocampanaproceso, codpais, codebelista, codmarcacategoria \")\n",
    "\n",
    "df_pivot1.registerTempTable(\"pivot\")\n",
    "sqlContext.dropTempTable(\"conteomarcacategorias\")"
   ]
  },
  {
   "cell_type": "code",
   "execution_count": 22,
   "metadata": {},
   "outputs": [],
   "source": [
    "df_tempomarcacategoria_pup = sqlContext.sql(\" Select aniocampanaexposicion, aniocampanaproceso, codpais, codebelista, \"\n",
    "               \" sum(CASE WHEN codmarcacategoria='CCP' THEN cast(pup as decimal(12,4)) else 0 end) as pup_cyzone_cp , \"\n",
    "               \" sum(CASE WHEN codmarcacategoria='CFG' THEN cast(pup as decimal(12,4)) else 0 end) as pup_cyzone_fg, \"\n",
    "               \" sum(CASE WHEN codmarcacategoria='CMQ' THEN cast(pup as decimal(12,4)) else 0 end) as pup_cyzone_mq, \"\n",
    "               \" sum(CASE WHEN codmarcacategoria='CTC' THEN cast(pup as decimal(12,4)) else 0 end) as pup_cyzone_tc, \"\n",
    "               \" sum(CASE WHEN codmarcacategoria='CTF' THEN cast(pup as decimal(12,4)) else 0 end) as pup_cyzone_tf, \"\n",
    "               \" sum(CASE WHEN codmarcacategoria='BCP' THEN cast(pup as decimal(12,4)) else 0 end) as pup_esika_cp, \"\n",
    "               \" sum(CASE WHEN codmarcacategoria='BFG' THEN cast(pup as decimal(12,4)) else 0 end) as pup_esika_fg, \"\n",
    "               \" sum(CASE WHEN codmarcacategoria='BMQ' THEN cast(pup as decimal(12,4)) else 0 end) as pup_esika_mq, \"\n",
    "               \" sum(CASE WHEN codmarcacategoria='BTC' THEN cast(pup as decimal(12,4)) else 0 end) as pup_esika_tc, \"\n",
    "               \" sum(CASE WHEN codmarcacategoria='BTF' THEN cast(pup as decimal(12,4)) else 0 end) as pup_esika_tf, \"\n",
    "               \" sum(CASE WHEN codmarcacategoria='ACP' THEN cast(pup as decimal(12,4)) else 0 end) as pup_lbel_cp, \"\n",
    "               \" sum(CASE WHEN codmarcacategoria='AFG' THEN cast(pup as decimal(12,4)) else 0 end) as pup_lbel_fg, \"\n",
    "               \" sum(CASE WHEN codmarcacategoria='AMQ' THEN cast(pup as decimal(12,4)) else 0 end) as pup_lbel_mq, \"\n",
    "               \" sum(CASE WHEN codmarcacategoria='ATC' THEN cast(pup as decimal(12,4)) else 0 end) as pup_lbel_tc, \"\n",
    "               \" sum(CASE WHEN codmarcacategoria='ATF' THEN cast(pup as decimal(12,4)) else 0 end) as pup_lbel_tf\"\n",
    "               \" from pivot \"\n",
    "               \" group by aniocampanaexposicion, aniocampanaproceso, codpais, codebelista \")\n",
    "\n",
    "df_tempomarcacategoria_pup.registerTempTable(\"tempomarcacategoria_pup\")"
   ]
  },
  {
   "cell_type": "code",
   "execution_count": 23,
   "metadata": {},
   "outputs": [],
   "source": [
    "df_tempomarcacategoria_ppu = sqlContext.sql(\" SELECT aniocampanaexposicion, aniocampanaproceso, codpais, codebelista, \"\n",
    "               \" sum(CASE WHEN codmarcacategoria='CCP' THEN ppu else 0 end) ppu_cyzone_cp, \"\n",
    "               \" sum(CASE WHEN codmarcacategoria='CFG' THEN ppu else 0 end) ppu_cyzone_fg, \"\n",
    "               \" sum(CASE WHEN codmarcacategoria='CMQ' THEN ppu else 0 end) ppu_cyzone_mq, \"\n",
    "               \" sum(CASE WHEN codmarcacategoria='CTC' THEN ppu else 0 end) ppu_cyzone_tc, \"\n",
    "               \" sum(CASE WHEN codmarcacategoria='CTF' THEN ppu else 0 end) ppu_cyzone_tf, \"\n",
    "               \" sum(CASE WHEN codmarcacategoria='BCP' THEN ppu else 0 end) ppu_esika_cp, \"\n",
    "               \" sum(CASE WHEN codmarcacategoria='BFG' THEN ppu else 0 end) ppu_esika_fg, \"\n",
    "               \" sum(CASE WHEN codmarcacategoria='BMQ' THEN ppu else 0 end) ppu_esika_mq, \"\n",
    "               \" sum(CASE WHEN codmarcacategoria='BTC' THEN ppu else 0 end) ppu_esika_tc, \"\n",
    "               \" sum(CASE WHEN codmarcacategoria='BTF' THEN ppu else 0 end) ppu_esika_tf, \"\n",
    "               \" sum(CASE WHEN codmarcacategoria='ACP' THEN ppu else 0 end) ppu_lbel_cp, \"\n",
    "               \" sum(CASE WHEN codmarcacategoria='AFG' THEN ppu else 0 end) ppu_lbel_fg, \"\n",
    "               \" sum(CASE WHEN codmarcacategoria='AMQ' THEN ppu else 0 end) ppu_lbel_mq, \"\n",
    "               \" sum(CASE WHEN codmarcacategoria='ATC' THEN ppu else 0 end) ppu_lbel_tc, \"\n",
    "               \" sum(CASE WHEN codmarcacategoria='ATF' THEN ppu else 0 end) ppu_lbel_tf \"\n",
    "               \" from pivot \"\n",
    "               \" group by aniocampanaexposicion, aniocampanaproceso, codpais, codebelista \")\n",
    "\n",
    "df_tempomarcacategoria_ppu.registerTempTable(\"tempomarcacategoria_ppu\")\n",
    "sqlContext.dropTempTable(\"pivot\")"
   ]
  },
  {
   "cell_type": "code",
   "execution_count": 24,
   "metadata": {},
   "outputs": [],
   "source": [
    "df_tempomarcacategoria = sqlContext.sql(\" select a.aniocampanaexposicion, a.aniocampanaproceso, a.codpais, a.codebelista, \"\n",
    "               \" a.pup_lbel_cp, a.pup_lbel_fg, a.pup_lbel_mq, a.pup_lbel_tc, a.pup_lbel_tf, a.pup_esika_cp, a.pup_esika_fg, \"\n",
    "               \" a.pup_esika_mq, a.pup_esika_tc, a.pup_esika_tf, a.pup_cyzone_cp, a.pup_cyzone_fg, a.pup_cyzone_mq, \"\n",
    "               \" a.pup_cyzone_tc, a.pup_cyzone_tf, b.ppu_lbel_cp, b.ppu_lbel_fg, b.ppu_lbel_mq, b.ppu_lbel_tc, b.ppu_lbel_tf, \"\n",
    "               \" b.ppu_esika_cp, b.ppu_esika_fg, b.ppu_esika_mq, b.ppu_esika_tc, b.ppu_Esika_tf, b.ppu_cyzone_cp, b.ppu_cyzone_fg, \"\n",
    "               \" b.ppu_cyzone_mq, b.ppu_cyzone_tc, b.ppu_cyzone_tf \"\n",
    "               \" from tempomarcacategoria_pup a \"\n",
    "               \" inner join tempomarcacategoria_ppu b \"\n",
    "               \" on a.codpais = b.codpais \"\n",
    "               \" and a.aniocampanaexposicion = b.aniocampanaexposicion \"\n",
    "               \" and a.aniocampanaproceso = b.aniocampanaproceso \"\n",
    "               \" and a.codebelista= b.codebelista \")\n",
    "\n",
    "df_tempomarcacategoria.registerTempTable(\"tempomarcacategoria\")\n",
    "sqlContext.dropTempTable(\"tempomarcacategoria_pup\")\n",
    "sqlContext.dropTempTable(\"tempomarcacategoria_ppu\")"
   ]
  },
  {
   "cell_type": "code",
   "execution_count": 25,
   "metadata": {},
   "outputs": [],
   "source": [
    "#if codpais == 'TD':\n",
    "#    cursor.execute(\"delete from dom_perfiles.mdl_perfilinput \"\n",
    "#                   \"where AnioCampanaProceso = '\" + anioCampanaProceso\n",
    "#                   + \"' AND AnioCampanaExposicion  = '\" + anioCampanaExposicion + \"';\")\n",
    "#else:\n",
    "#    cursor.execute(\"delete from dom_perfiles.mdl_perfilinput \"\n",
    "#                   \"where AnioCampanaProceso = '\" + anioCampanaProceso\n",
    "#                   + \"' AND AnioCampanaExposicion  = '\" + anioCampanaExposicion\n",
    "#                   + \"' AND CodPais = '\" + codPais + \"';\")"
   ]
  },
  {
   "cell_type": "code",
   "execution_count": 26,
   "metadata": {},
   "outputs": [],
   "source": [
    "df_perfilinput = sqlContext.sql(\" select a.aniocampanaexposicion, a.aniocampanaproceso, a.codpais, a.codebelista, \"\n",
    "               \"a.pup_lbel, a.pup_esika, a.pup_cyzone, b.pup_cp, b.pup_fg, b.pup_mq, b.pup_tc, b.pup_tf, c.pup_lbel_cp, \"\n",
    "               \"c.pup_lbel_fg, c.pup_lbel_mq, c.pup_lbel_tc, c.pup_lbel_tf, c.pup_esika_cp, c.pup_esika_fg, c.pup_esika_mq, \"\n",
    "               \"c.pup_esika_tc, c.pup_esika_tf, c.pup_cyzone_cp, c.pup_cyzone_fg, c.pup_cyzone_mq, c.pup_cyzone_tc, c.pup_cyzone_tf, \"\n",
    "               \"a.ppu_lbel, a.ppu_esika, a.ppu_cyzone, b.ppu_cp, b.ppu_fg, b.ppu_mq, b.ppu_tc, b.ppu_tf, c.ppu_lbel_cp, c.ppu_lbel_fg, \"\n",
    "               \"c.ppu_lbel_mq, c.ppu_lbel_tc, c.ppu_lbel_tf, c.ppu_esika_cp, c.ppu_esika_fg, c.ppu_esika_mq, c.ppu_esika_tc, c.ppu_esika_tf, \"\n",
    "               \"c.ppu_cyzone_cp, c.ppu_cyzone_fg, c.ppu_cyzone_mq, c.ppu_cyzone_tc, c.ppu_cyzone_tf, 0.00 as pup, 0.00 as ppu, 3 as tercilpup, 3 as tercilppu \"\n",
    "               \"from tempomarcas a \"\n",
    "               \"inner join tempocategoria b on a.codebelista = b.codebelista \"\n",
    "               \"inner join tempomarcacategoria c on a.codebelista = c.codebelista \")\n",
    "\n",
    "df_perfilinput.registerTempTable(\"perfilinput\")"
   ]
  },
  {
   "cell_type": "code",
   "execution_count": 27,
   "metadata": {},
   "outputs": [
    {
     "name": "stdout",
     "output_type": "stream",
     "text": [
      "root\n",
      " |-- aniocampanaexposicion: string (nullable = false)\n",
      " |-- aniocampanaproceso: string (nullable = false)\n",
      " |-- codpais: string (nullable = true)\n",
      " |-- codebelista: string (nullable = true)\n",
      " |-- pup_lbel: decimal(24,4) (nullable = true)\n",
      " |-- pup_esika: decimal(24,4) (nullable = true)\n",
      " |-- pup_cyzone: decimal(24,4) (nullable = true)\n",
      " |-- pup_cp: decimal(24,4) (nullable = true)\n",
      " |-- pup_fg: decimal(24,4) (nullable = true)\n",
      " |-- pup_mq: decimal(24,4) (nullable = true)\n",
      " |-- pup_tc: decimal(24,4) (nullable = true)\n",
      " |-- pup_tf: decimal(24,4) (nullable = true)\n",
      " |-- pup_lbel_cp: decimal(24,4) (nullable = true)\n",
      " |-- pup_lbel_fg: decimal(24,4) (nullable = true)\n",
      " |-- pup_lbel_mq: decimal(24,4) (nullable = true)\n",
      " |-- pup_lbel_tc: decimal(24,4) (nullable = true)\n",
      " |-- pup_lbel_tf: decimal(24,4) (nullable = true)\n",
      " |-- pup_esika_cp: decimal(24,4) (nullable = true)\n",
      " |-- pup_esika_fg: decimal(24,4) (nullable = true)\n",
      " |-- pup_esika_mq: decimal(24,4) (nullable = true)\n",
      " |-- pup_esika_tc: decimal(24,4) (nullable = true)\n",
      " |-- pup_esika_tf: decimal(24,4) (nullable = true)\n",
      " |-- pup_cyzone_cp: decimal(24,4) (nullable = true)\n",
      " |-- pup_cyzone_fg: decimal(24,4) (nullable = true)\n",
      " |-- pup_cyzone_mq: decimal(24,4) (nullable = true)\n",
      " |-- pup_cyzone_tc: decimal(24,4) (nullable = true)\n",
      " |-- pup_cyzone_tf: decimal(24,4) (nullable = true)\n",
      " |-- ppu_lbel: decimal(24,4) (nullable = true)\n",
      " |-- ppu_esika: decimal(24,4) (nullable = true)\n",
      " |-- ppu_cyzone: decimal(24,4) (nullable = true)\n",
      " |-- ppu_cp: decimal(24,4) (nullable = true)\n",
      " |-- ppu_fg: decimal(24,4) (nullable = true)\n",
      " |-- ppu_mq: decimal(24,4) (nullable = true)\n",
      " |-- ppu_tc: decimal(24,4) (nullable = true)\n",
      " |-- ppu_tf: decimal(24,4) (nullable = true)\n",
      " |-- ppu_lbel_cp: decimal(28,8) (nullable = true)\n",
      " |-- ppu_lbel_fg: decimal(28,8) (nullable = true)\n",
      " |-- ppu_lbel_mq: decimal(28,8) (nullable = true)\n",
      " |-- ppu_lbel_tc: decimal(28,8) (nullable = true)\n",
      " |-- ppu_lbel_tf: decimal(28,8) (nullable = true)\n",
      " |-- ppu_esika_cp: decimal(28,8) (nullable = true)\n",
      " |-- ppu_esika_fg: decimal(28,8) (nullable = true)\n",
      " |-- ppu_esika_mq: decimal(28,8) (nullable = true)\n",
      " |-- ppu_esika_tc: decimal(28,8) (nullable = true)\n",
      " |-- ppu_esika_tf: decimal(28,8) (nullable = true)\n",
      " |-- ppu_cyzone_cp: decimal(28,8) (nullable = true)\n",
      " |-- ppu_cyzone_fg: decimal(28,8) (nullable = true)\n",
      " |-- ppu_cyzone_mq: decimal(28,8) (nullable = true)\n",
      " |-- ppu_cyzone_tc: decimal(28,8) (nullable = true)\n",
      " |-- ppu_cyzone_tf: decimal(28,8) (nullable = true)\n",
      " |-- pup: decimal(2,2) (nullable = false)\n",
      " |-- ppu: decimal(2,2) (nullable = false)\n",
      " |-- tercilpup: integer (nullable = false)\n",
      " |-- tercilppu: integer (nullable = false)"
     ]
    }
   ],
   "source": [
    "df_perfilinput.printSchema()"
   ]
  },
  {
   "cell_type": "code",
   "execution_count": 38,
   "metadata": {},
   "outputs": [
    {
     "name": "stderr",
     "output_type": "stream",
     "text": [
      "An error was encountered:\n",
      "Session 18 did not reach idle status in time. Current status is busy.\n"
     ]
    }
   ],
   "source": [
    "#df_perfilinput.write.partitionBy(\"codpais\").format(\"parquet\").save(\"s3://hdata-belcorp/modelo-analitico-parquet/perfiles/perfil_input.parquet\")\n",
    "\n",
    "\n",
    "df = df_perfilinput.repartition(2, \"codpais\", \"aniocampanaproceso\")\n",
    "\n",
    "#df_perfilinput.repartition(400).write.parquet(\"s3://hdata-belcorp/modelo-analitico-parquet/perfiles-input\")\n",
    "\n",
    "#df_perfilinput.write.csv(\"s3://hdata-belcorp/modelo-analitico-parquet/perfiles-input\")\n",
    "\n",
    "#df_perfilinput.repartition(\"codpais\", \"aniocampanaproceso\").write.partitionBy(\"codpais\", \"aniocampanaproceso\").parquet(\"s3://hdata-belcorp/modelo-analitico-parquet/perfiles-input\")\n"
   ]
  },
  {
   "cell_type": "code",
   "execution_count": 37,
   "metadata": {},
   "outputs": [
    {
     "ename": "KeyboardInterrupt",
     "evalue": "",
     "output_type": "error",
     "traceback": [
      "\u001b[0;31m---------------------------------------------------------------------------\u001b[0m",
      "\u001b[0;31mKeyboardInterrupt\u001b[0m                         Traceback (most recent call last)",
      "\u001b[0;32m<ipython-input-37-fff31ffac9bd>\u001b[0m in \u001b[0;36m<module>\u001b[0;34m()\u001b[0m\n\u001b[0;32m----> 1\u001b[0;31m \u001b[0mget_ipython\u001b[0m\u001b[0;34m(\u001b[0m\u001b[0;34m)\u001b[0m\u001b[0;34m.\u001b[0m\u001b[0mrun_cell_magic\u001b[0m\u001b[0;34m(\u001b[0m\u001b[0;34m'spark'\u001b[0m\u001b[0;34m,\u001b[0m \u001b[0;34m''\u001b[0m\u001b[0;34m,\u001b[0m \u001b[0;34m'df.show()'\u001b[0m\u001b[0;34m)\u001b[0m\u001b[0;34m\u001b[0m\u001b[0m\n\u001b[0m",
      "\u001b[0;32m/opt/conda/lib/python3.6/site-packages/IPython/core/interactiveshell.py\u001b[0m in \u001b[0;36mrun_cell_magic\u001b[0;34m(self, magic_name, line, cell)\u001b[0m\n\u001b[1;32m   2129\u001b[0m             \u001b[0mmagic_arg_s\u001b[0m \u001b[0;34m=\u001b[0m \u001b[0mself\u001b[0m\u001b[0;34m.\u001b[0m\u001b[0mvar_expand\u001b[0m\u001b[0;34m(\u001b[0m\u001b[0mline\u001b[0m\u001b[0;34m,\u001b[0m \u001b[0mstack_depth\u001b[0m\u001b[0;34m)\u001b[0m\u001b[0;34m\u001b[0m\u001b[0m\n\u001b[1;32m   2130\u001b[0m             \u001b[0;32mwith\u001b[0m \u001b[0mself\u001b[0m\u001b[0;34m.\u001b[0m\u001b[0mbuiltin_trap\u001b[0m\u001b[0;34m:\u001b[0m\u001b[0;34m\u001b[0m\u001b[0m\n\u001b[0;32m-> 2131\u001b[0;31m                 \u001b[0mresult\u001b[0m \u001b[0;34m=\u001b[0m \u001b[0mfn\u001b[0m\u001b[0;34m(\u001b[0m\u001b[0mmagic_arg_s\u001b[0m\u001b[0;34m,\u001b[0m \u001b[0mcell\u001b[0m\u001b[0;34m)\u001b[0m\u001b[0;34m\u001b[0m\u001b[0m\n\u001b[0m\u001b[1;32m   2132\u001b[0m             \u001b[0;32mreturn\u001b[0m \u001b[0mresult\u001b[0m\u001b[0;34m\u001b[0m\u001b[0m\n\u001b[1;32m   2133\u001b[0m \u001b[0;34m\u001b[0m\u001b[0m\n",
      "\u001b[0;32m<decorator-gen-123>\u001b[0m in \u001b[0;36mspark\u001b[0;34m(self, *args, **kwargs)\u001b[0m\n",
      "\u001b[0;32m/opt/conda/lib/python3.6/site-packages/IPython/core/magic.py\u001b[0m in \u001b[0;36m<lambda>\u001b[0;34m(f, *a, **k)\u001b[0m\n\u001b[1;32m    185\u001b[0m     \u001b[0;31m# but it's overkill for just that one bit of state.\u001b[0m\u001b[0;34m\u001b[0m\u001b[0;34m\u001b[0m\u001b[0m\n\u001b[1;32m    186\u001b[0m     \u001b[0;32mdef\u001b[0m \u001b[0mmagic_deco\u001b[0m\u001b[0;34m(\u001b[0m\u001b[0marg\u001b[0m\u001b[0;34m)\u001b[0m\u001b[0;34m:\u001b[0m\u001b[0;34m\u001b[0m\u001b[0m\n\u001b[0;32m--> 187\u001b[0;31m         \u001b[0mcall\u001b[0m \u001b[0;34m=\u001b[0m \u001b[0;32mlambda\u001b[0m \u001b[0mf\u001b[0m\u001b[0;34m,\u001b[0m \u001b[0;34m*\u001b[0m\u001b[0ma\u001b[0m\u001b[0;34m,\u001b[0m \u001b[0;34m**\u001b[0m\u001b[0mk\u001b[0m\u001b[0;34m:\u001b[0m \u001b[0mf\u001b[0m\u001b[0;34m(\u001b[0m\u001b[0;34m*\u001b[0m\u001b[0ma\u001b[0m\u001b[0;34m,\u001b[0m \u001b[0;34m**\u001b[0m\u001b[0mk\u001b[0m\u001b[0;34m)\u001b[0m\u001b[0;34m\u001b[0m\u001b[0m\n\u001b[0m\u001b[1;32m    188\u001b[0m \u001b[0;34m\u001b[0m\u001b[0m\n\u001b[1;32m    189\u001b[0m         \u001b[0;32mif\u001b[0m \u001b[0mcallable\u001b[0m\u001b[0;34m(\u001b[0m\u001b[0marg\u001b[0m\u001b[0;34m)\u001b[0m\u001b[0;34m:\u001b[0m\u001b[0;34m\u001b[0m\u001b[0m\n",
      "\u001b[0;32m/opt/conda/lib/python3.6/site-packages/sparkmagic/livyclientlib/exceptions.py\u001b[0m in \u001b[0;36mwrapped\u001b[0;34m(self, *args, **kwargs)\u001b[0m\n\u001b[1;32m     94\u001b[0m     \u001b[0;32mdef\u001b[0m \u001b[0mwrapped\u001b[0m\u001b[0;34m(\u001b[0m\u001b[0mself\u001b[0m\u001b[0;34m,\u001b[0m \u001b[0;34m*\u001b[0m\u001b[0margs\u001b[0m\u001b[0;34m,\u001b[0m \u001b[0;34m**\u001b[0m\u001b[0mkwargs\u001b[0m\u001b[0;34m)\u001b[0m\u001b[0;34m:\u001b[0m\u001b[0;34m\u001b[0m\u001b[0m\n\u001b[1;32m     95\u001b[0m         \u001b[0;32mtry\u001b[0m\u001b[0;34m:\u001b[0m\u001b[0;34m\u001b[0m\u001b[0m\n\u001b[0;32m---> 96\u001b[0;31m             \u001b[0mout\u001b[0m \u001b[0;34m=\u001b[0m \u001b[0mf\u001b[0m\u001b[0;34m(\u001b[0m\u001b[0mself\u001b[0m\u001b[0;34m,\u001b[0m \u001b[0;34m*\u001b[0m\u001b[0margs\u001b[0m\u001b[0;34m,\u001b[0m \u001b[0;34m**\u001b[0m\u001b[0mkwargs\u001b[0m\u001b[0;34m)\u001b[0m\u001b[0;34m\u001b[0m\u001b[0m\n\u001b[0m\u001b[1;32m     97\u001b[0m         \u001b[0;32mexcept\u001b[0m \u001b[0mException\u001b[0m \u001b[0;32mas\u001b[0m \u001b[0me\u001b[0m\u001b[0;34m:\u001b[0m\u001b[0;34m\u001b[0m\u001b[0m\n\u001b[1;32m     98\u001b[0m             \u001b[0mself\u001b[0m\u001b[0;34m.\u001b[0m\u001b[0mlogger\u001b[0m\u001b[0;34m.\u001b[0m\u001b[0merror\u001b[0m\u001b[0;34m(\u001b[0m\u001b[0;34mu\"ENCOUNTERED AN INTERNAL ERROR: {}\\n\\tTraceback:\\n{}\"\u001b[0m\u001b[0;34m.\u001b[0m\u001b[0mformat\u001b[0m\u001b[0;34m(\u001b[0m\u001b[0me\u001b[0m\u001b[0;34m,\u001b[0m \u001b[0mtraceback\u001b[0m\u001b[0;34m.\u001b[0m\u001b[0mformat_exc\u001b[0m\u001b[0;34m(\u001b[0m\u001b[0;34m)\u001b[0m\u001b[0;34m)\u001b[0m\u001b[0;34m)\u001b[0m\u001b[0;34m\u001b[0m\u001b[0m\n",
      "\u001b[0;32m/opt/conda/lib/python3.6/site-packages/sparkmagic/livyclientlib/exceptions.py\u001b[0m in \u001b[0;36mwrapped\u001b[0;34m(self, *args, **kwargs)\u001b[0m\n\u001b[1;32m     70\u001b[0m     \u001b[0;32mdef\u001b[0m \u001b[0mwrapped\u001b[0m\u001b[0;34m(\u001b[0m\u001b[0mself\u001b[0m\u001b[0;34m,\u001b[0m \u001b[0;34m*\u001b[0m\u001b[0margs\u001b[0m\u001b[0;34m,\u001b[0m \u001b[0;34m**\u001b[0m\u001b[0mkwargs\u001b[0m\u001b[0;34m)\u001b[0m\u001b[0;34m:\u001b[0m\u001b[0;34m\u001b[0m\u001b[0m\n\u001b[1;32m     71\u001b[0m         \u001b[0;32mtry\u001b[0m\u001b[0;34m:\u001b[0m\u001b[0;34m\u001b[0m\u001b[0m\n\u001b[0;32m---> 72\u001b[0;31m             \u001b[0mout\u001b[0m \u001b[0;34m=\u001b[0m \u001b[0mf\u001b[0m\u001b[0;34m(\u001b[0m\u001b[0mself\u001b[0m\u001b[0;34m,\u001b[0m \u001b[0;34m*\u001b[0m\u001b[0margs\u001b[0m\u001b[0;34m,\u001b[0m \u001b[0;34m**\u001b[0m\u001b[0mkwargs\u001b[0m\u001b[0;34m)\u001b[0m\u001b[0;34m\u001b[0m\u001b[0m\n\u001b[0m\u001b[1;32m     73\u001b[0m         \u001b[0;32mexcept\u001b[0m \u001b[0mexceptions_to_handle\u001b[0m \u001b[0;32mas\u001b[0m \u001b[0merr\u001b[0m\u001b[0;34m:\u001b[0m\u001b[0;34m\u001b[0m\u001b[0m\n\u001b[1;32m     74\u001b[0m             \u001b[0;31m# Do not log! as some messages may contain private client information\u001b[0m\u001b[0;34m\u001b[0m\u001b[0;34m\u001b[0m\u001b[0m\n",
      "\u001b[0;32m/opt/conda/lib/python3.6/site-packages/sparkmagic/kernels/kernelmagics.py\u001b[0m in \u001b[0;36mspark\u001b[0;34m(self, line, cell, local_ns)\u001b[0m\n\u001b[1;32m    223\u001b[0m             \u001b[0mcoerce\u001b[0m \u001b[0;34m=\u001b[0m \u001b[0mget_coerce_value\u001b[0m\u001b[0;34m(\u001b[0m\u001b[0margs\u001b[0m\u001b[0;34m.\u001b[0m\u001b[0mcoerce\u001b[0m\u001b[0;34m)\u001b[0m\u001b[0;34m\u001b[0m\u001b[0m\n\u001b[1;32m    224\u001b[0m \u001b[0;34m\u001b[0m\u001b[0m\n\u001b[0;32m--> 225\u001b[0;31m             \u001b[0mself\u001b[0m\u001b[0;34m.\u001b[0m\u001b[0mexecute_spark\u001b[0m\u001b[0;34m(\u001b[0m\u001b[0mcell\u001b[0m\u001b[0;34m,\u001b[0m \u001b[0margs\u001b[0m\u001b[0;34m.\u001b[0m\u001b[0moutput\u001b[0m\u001b[0;34m,\u001b[0m \u001b[0margs\u001b[0m\u001b[0;34m.\u001b[0m\u001b[0msamplemethod\u001b[0m\u001b[0;34m,\u001b[0m \u001b[0margs\u001b[0m\u001b[0;34m.\u001b[0m\u001b[0mmaxrows\u001b[0m\u001b[0;34m,\u001b[0m \u001b[0margs\u001b[0m\u001b[0;34m.\u001b[0m\u001b[0msamplefraction\u001b[0m\u001b[0;34m,\u001b[0m \u001b[0;32mNone\u001b[0m\u001b[0;34m,\u001b[0m \u001b[0mcoerce\u001b[0m\u001b[0;34m)\u001b[0m\u001b[0;34m\u001b[0m\u001b[0m\n\u001b[0m\u001b[1;32m    226\u001b[0m         \u001b[0;32melse\u001b[0m\u001b[0;34m:\u001b[0m\u001b[0;34m\u001b[0m\u001b[0m\n\u001b[1;32m    227\u001b[0m             \u001b[0;32mreturn\u001b[0m\u001b[0;34m\u001b[0m\u001b[0m\n",
      "\u001b[0;32m/opt/conda/lib/python3.6/site-packages/sparkmagic/magics/sparkmagicsbase.py\u001b[0m in \u001b[0;36mexecute_spark\u001b[0;34m(self, cell, output_var, samplemethod, maxrows, samplefraction, session_name, coerce)\u001b[0m\n\u001b[1;32m     39\u001b[0m \u001b[0;34m\u001b[0m\u001b[0m\n\u001b[1;32m     40\u001b[0m     \u001b[0;32mdef\u001b[0m \u001b[0mexecute_spark\u001b[0m\u001b[0;34m(\u001b[0m\u001b[0mself\u001b[0m\u001b[0;34m,\u001b[0m \u001b[0mcell\u001b[0m\u001b[0;34m,\u001b[0m \u001b[0moutput_var\u001b[0m\u001b[0;34m,\u001b[0m \u001b[0msamplemethod\u001b[0m\u001b[0;34m,\u001b[0m \u001b[0mmaxrows\u001b[0m\u001b[0;34m,\u001b[0m \u001b[0msamplefraction\u001b[0m\u001b[0;34m,\u001b[0m \u001b[0msession_name\u001b[0m\u001b[0;34m,\u001b[0m \u001b[0mcoerce\u001b[0m\u001b[0;34m)\u001b[0m\u001b[0;34m:\u001b[0m\u001b[0;34m\u001b[0m\u001b[0m\n\u001b[0;32m---> 41\u001b[0;31m         \u001b[0;34m(\u001b[0m\u001b[0msuccess\u001b[0m\u001b[0;34m,\u001b[0m \u001b[0mout\u001b[0m\u001b[0;34m)\u001b[0m \u001b[0;34m=\u001b[0m \u001b[0mself\u001b[0m\u001b[0;34m.\u001b[0m\u001b[0mspark_controller\u001b[0m\u001b[0;34m.\u001b[0m\u001b[0mrun_command\u001b[0m\u001b[0;34m(\u001b[0m\u001b[0mCommand\u001b[0m\u001b[0;34m(\u001b[0m\u001b[0mcell\u001b[0m\u001b[0;34m)\u001b[0m\u001b[0;34m,\u001b[0m \u001b[0msession_name\u001b[0m\u001b[0;34m)\u001b[0m\u001b[0;34m\u001b[0m\u001b[0m\n\u001b[0m\u001b[1;32m     42\u001b[0m         \u001b[0;32mif\u001b[0m \u001b[0;32mnot\u001b[0m \u001b[0msuccess\u001b[0m\u001b[0;34m:\u001b[0m\u001b[0;34m\u001b[0m\u001b[0m\n\u001b[1;32m     43\u001b[0m             \u001b[0mself\u001b[0m\u001b[0;34m.\u001b[0m\u001b[0mipython_display\u001b[0m\u001b[0;34m.\u001b[0m\u001b[0msend_error\u001b[0m\u001b[0;34m(\u001b[0m\u001b[0mout\u001b[0m\u001b[0;34m)\u001b[0m\u001b[0;34m\u001b[0m\u001b[0m\n",
      "\u001b[0;32m/opt/conda/lib/python3.6/site-packages/sparkmagic/livyclientlib/sparkcontroller.py\u001b[0m in \u001b[0;36mrun_command\u001b[0;34m(self, command, client_name)\u001b[0m\n\u001b[1;32m     34\u001b[0m     \u001b[0;32mdef\u001b[0m \u001b[0mrun_command\u001b[0m\u001b[0;34m(\u001b[0m\u001b[0mself\u001b[0m\u001b[0;34m,\u001b[0m \u001b[0mcommand\u001b[0m\u001b[0;34m,\u001b[0m \u001b[0mclient_name\u001b[0m\u001b[0;34m=\u001b[0m\u001b[0;32mNone\u001b[0m\u001b[0;34m)\u001b[0m\u001b[0;34m:\u001b[0m\u001b[0;34m\u001b[0m\u001b[0m\n\u001b[1;32m     35\u001b[0m         \u001b[0msession_to_use\u001b[0m \u001b[0;34m=\u001b[0m \u001b[0mself\u001b[0m\u001b[0;34m.\u001b[0m\u001b[0mget_session_by_name_or_default\u001b[0m\u001b[0;34m(\u001b[0m\u001b[0mclient_name\u001b[0m\u001b[0;34m)\u001b[0m\u001b[0;34m\u001b[0m\u001b[0m\n\u001b[0;32m---> 36\u001b[0;31m         \u001b[0;32mreturn\u001b[0m \u001b[0mcommand\u001b[0m\u001b[0;34m.\u001b[0m\u001b[0mexecute\u001b[0m\u001b[0;34m(\u001b[0m\u001b[0msession_to_use\u001b[0m\u001b[0;34m)\u001b[0m\u001b[0;34m\u001b[0m\u001b[0m\n\u001b[0m\u001b[1;32m     37\u001b[0m \u001b[0;34m\u001b[0m\u001b[0m\n\u001b[1;32m     38\u001b[0m     \u001b[0;32mdef\u001b[0m \u001b[0mrun_sqlquery\u001b[0m\u001b[0;34m(\u001b[0m\u001b[0mself\u001b[0m\u001b[0;34m,\u001b[0m \u001b[0msqlquery\u001b[0m\u001b[0;34m,\u001b[0m \u001b[0mclient_name\u001b[0m\u001b[0;34m=\u001b[0m\u001b[0;32mNone\u001b[0m\u001b[0;34m)\u001b[0m\u001b[0;34m:\u001b[0m\u001b[0;34m\u001b[0m\u001b[0m\n",
      "\u001b[0;32m/opt/conda/lib/python3.6/site-packages/sparkmagic/livyclientlib/command.py\u001b[0m in \u001b[0;36mexecute\u001b[0;34m(self, session)\u001b[0m\n\u001b[1;32m     33\u001b[0m             \u001b[0mresponse\u001b[0m \u001b[0;34m=\u001b[0m \u001b[0msession\u001b[0m\u001b[0;34m.\u001b[0m\u001b[0mhttp_client\u001b[0m\u001b[0;34m.\u001b[0m\u001b[0mpost_statement\u001b[0m\u001b[0;34m(\u001b[0m\u001b[0msession\u001b[0m\u001b[0;34m.\u001b[0m\u001b[0mid\u001b[0m\u001b[0;34m,\u001b[0m \u001b[0mdata\u001b[0m\u001b[0;34m)\u001b[0m\u001b[0;34m\u001b[0m\u001b[0m\n\u001b[1;32m     34\u001b[0m             \u001b[0mstatement_id\u001b[0m \u001b[0;34m=\u001b[0m \u001b[0mresponse\u001b[0m\u001b[0;34m[\u001b[0m\u001b[0;34mu'id'\u001b[0m\u001b[0;34m]\u001b[0m\u001b[0;34m\u001b[0m\u001b[0m\n\u001b[0;32m---> 35\u001b[0;31m             \u001b[0moutput\u001b[0m \u001b[0;34m=\u001b[0m \u001b[0mself\u001b[0m\u001b[0;34m.\u001b[0m\u001b[0m_get_statement_output\u001b[0m\u001b[0;34m(\u001b[0m\u001b[0msession\u001b[0m\u001b[0;34m,\u001b[0m \u001b[0mstatement_id\u001b[0m\u001b[0;34m)\u001b[0m\u001b[0;34m\u001b[0m\u001b[0m\n\u001b[0m\u001b[1;32m     36\u001b[0m         \u001b[0;32mexcept\u001b[0m \u001b[0mException\u001b[0m \u001b[0;32mas\u001b[0m \u001b[0me\u001b[0m\u001b[0;34m:\u001b[0m\u001b[0;34m\u001b[0m\u001b[0m\n\u001b[1;32m     37\u001b[0m             self._spark_events.emit_statement_execution_end_event(session.guid, session.kind, session.id,\n",
      "\u001b[0;32m/opt/conda/lib/python3.6/site-packages/sparkmagic/livyclientlib/command.py\u001b[0m in \u001b[0;36m_get_statement_output\u001b[0;34m(self, session, statement_id)\u001b[0m\n\u001b[1;32m     54\u001b[0m \u001b[0;34m\u001b[0m\u001b[0m\n\u001b[1;32m     55\u001b[0m             \u001b[0;32mif\u001b[0m \u001b[0mstatus\u001b[0m \u001b[0;32mnot\u001b[0m \u001b[0;32min\u001b[0m \u001b[0mFINAL_STATEMENT_STATUS\u001b[0m\u001b[0;34m:\u001b[0m\u001b[0;34m\u001b[0m\u001b[0m\n\u001b[0;32m---> 56\u001b[0;31m                 \u001b[0msession\u001b[0m\u001b[0;34m.\u001b[0m\u001b[0msleep\u001b[0m\u001b[0;34m(\u001b[0m\u001b[0mretries\u001b[0m\u001b[0;34m)\u001b[0m\u001b[0;34m\u001b[0m\u001b[0m\n\u001b[0m\u001b[1;32m     57\u001b[0m                 \u001b[0mretries\u001b[0m \u001b[0;34m+=\u001b[0m \u001b[0;36m1\u001b[0m\u001b[0;34m\u001b[0m\u001b[0m\n\u001b[1;32m     58\u001b[0m             \u001b[0;32melse\u001b[0m\u001b[0;34m:\u001b[0m\u001b[0;34m\u001b[0m\u001b[0m\n",
      "\u001b[0;32m/opt/conda/lib/python3.6/site-packages/sparkmagic/livyclientlib/livysession.py\u001b[0m in \u001b[0;36msleep\u001b[0;34m(self, retries)\u001b[0m\n\u001b[1;32m    273\u001b[0m \u001b[0;34m\u001b[0m\u001b[0m\n\u001b[1;32m    274\u001b[0m     \u001b[0;32mdef\u001b[0m \u001b[0msleep\u001b[0m\u001b[0;34m(\u001b[0m\u001b[0mself\u001b[0m\u001b[0;34m,\u001b[0m \u001b[0mretries\u001b[0m\u001b[0;34m)\u001b[0m\u001b[0;34m:\u001b[0m\u001b[0;34m\u001b[0m\u001b[0m\n\u001b[0;32m--> 275\u001b[0;31m         \u001b[0msleep\u001b[0m\u001b[0;34m(\u001b[0m\u001b[0mself\u001b[0m\u001b[0;34m.\u001b[0m\u001b[0m_policy\u001b[0m\u001b[0;34m.\u001b[0m\u001b[0mseconds_to_sleep\u001b[0m\u001b[0;34m(\u001b[0m\u001b[0mretries\u001b[0m\u001b[0;34m)\u001b[0m\u001b[0;34m)\u001b[0m\u001b[0;34m\u001b[0m\u001b[0m\n\u001b[0m\u001b[1;32m    276\u001b[0m \u001b[0;34m\u001b[0m\u001b[0m\n\u001b[1;32m    277\u001b[0m     \u001b[0;31m# This function will refresh the status and get the logs in a single call.\u001b[0m\u001b[0;34m\u001b[0m\u001b[0;34m\u001b[0m\u001b[0m\n",
      "\u001b[0;31mKeyboardInterrupt\u001b[0m: "
     ]
    }
   ],
   "source": [
    "df.show()"
   ]
  },
  {
   "cell_type": "code",
   "execution_count": 88,
   "metadata": {},
   "outputs": [
    {
     "name": "stderr",
     "output_type": "stream",
     "text": [
      "\"\\nno viable alternative at input 'create hive'(line 1, pos 7)\\n\\n== SQL ==\\ncreate hive table tblpq_perfilinput (  aniocampanaexposicion varchar(6), codebelista varchar(15), pup_lbel decimal(24,4), pup_esika decimal(24,4), pup_cyzone decimal(24,4), pup_cp decimal(24,4), pup_fg decimal(24,4), pup_mq decimal(24,4), pup_tc decimal(24,4), pup_tf decimal(24,4), pup_lbel_cp decimal(24,4), pup_lbel_fg decimal(24,4), pup_lbel_mq decimal(24,4), pup_lbel_tc decimal(24,4), pup_lbel_tf decimal(24,4), pup_esika_cp decimal(24,4), pup_esika_fg decimal(24,4), pup_esika_mq decimal(24,4), pup_esika_tc decimal(24,4), pup_esika_tf decimal(24,4), pup_cyzone_cp decimal(24,4), pup_cyzone_fg decimal(24,4), pup_cyzone_mq decimal(24,4), pup_cyzone_tc decimal(24,4), pup_cyzone_tf decimal(24,4), ppu_lbel decimal(24,4), ppu_esika decimal(24,4), ppu_cyzone decimal(24,4), ppu_cp decimal(24,4), ppu_fg decimal(24,4), ppu_mq decimal(24,4), ppu_tc decimal(24,4), ppu_tf decimal(24,4), ppu_lbel_cp decimal(28,8), ppu_lbel_fg decimal(28,8), ppu_lbel_mq decimal(28,8), ppu_lbel_tc decimal(28,8), ppu_lbel_tf decimal(28,8), ppu_esika_cp decimal(28,8), ppu_esika_fg decimal(28,8), ppu_esika_mq decimal(28,8), ppu_esika_tc decimal(28,8), ppu_esika_tf decimal(28,8), ppu_cyzone_cp decimal(28,8), ppu_cyzone_fg decimal(28,8), ppu_cyzone_mq decimal(28,8), ppu_cyzone_tc decimal(28,8), ppu_cyzone_tf decimal(28,8), pup decimal(2,2), ppu decimal(2,2), tercilpup integer, tercilppu integer) PARTITIONED BY(codpais varchar(2), aniocampanaproceso varchar(6)) STORED AS PARQUET LOCATION 's3://hdata-belcorp/parquet-campaign-manager/perfil-input/' tblproperties ('parquet.compress'='SNAPPY')\\n-------^^^\\n\"\n",
      "Traceback (most recent call last):\n",
      "  File \"/usr/lib/spark/python/lib/pyspark.zip/pyspark/sql/session.py\", line 710, in sql\n",
      "    return DataFrame(self._jsparkSession.sql(sqlQuery), self._wrapped)\n",
      "  File \"/usr/lib/spark/python/lib/py4j-0.10.7-src.zip/py4j/java_gateway.py\", line 1257, in __call__\n",
      "    answer, self.gateway_client, self.target_id, self.name)\n",
      "  File \"/usr/lib/spark/python/lib/pyspark.zip/pyspark/sql/utils.py\", line 73, in deco\n",
      "    raise ParseException(s.split(': ', 1)[1], stackTrace)\n",
      "pyspark.sql.utils.ParseException: \"\\nno viable alternative at input 'create hive'(line 1, pos 7)\\n\\n== SQL ==\\ncreate hive table tblpq_perfilinput (  aniocampanaexposicion varchar(6), codebelista varchar(15), pup_lbel decimal(24,4), pup_esika decimal(24,4), pup_cyzone decimal(24,4), pup_cp decimal(24,4), pup_fg decimal(24,4), pup_mq decimal(24,4), pup_tc decimal(24,4), pup_tf decimal(24,4), pup_lbel_cp decimal(24,4), pup_lbel_fg decimal(24,4), pup_lbel_mq decimal(24,4), pup_lbel_tc decimal(24,4), pup_lbel_tf decimal(24,4), pup_esika_cp decimal(24,4), pup_esika_fg decimal(24,4), pup_esika_mq decimal(24,4), pup_esika_tc decimal(24,4), pup_esika_tf decimal(24,4), pup_cyzone_cp decimal(24,4), pup_cyzone_fg decimal(24,4), pup_cyzone_mq decimal(24,4), pup_cyzone_tc decimal(24,4), pup_cyzone_tf decimal(24,4), ppu_lbel decimal(24,4), ppu_esika decimal(24,4), ppu_cyzone decimal(24,4), ppu_cp decimal(24,4), ppu_fg decimal(24,4), ppu_mq decimal(24,4), ppu_tc decimal(24,4), ppu_tf decimal(24,4), ppu_lbel_cp decimal(28,8), ppu_lbel_fg decimal(28,8), ppu_lbel_mq decimal(28,8), ppu_lbel_tc decimal(28,8), ppu_lbel_tf decimal(28,8), ppu_esika_cp decimal(28,8), ppu_esika_fg decimal(28,8), ppu_esika_mq decimal(28,8), ppu_esika_tc decimal(28,8), ppu_esika_tf decimal(28,8), ppu_cyzone_cp decimal(28,8), ppu_cyzone_fg decimal(28,8), ppu_cyzone_mq decimal(28,8), ppu_cyzone_tc decimal(28,8), ppu_cyzone_tf decimal(28,8), pup decimal(2,2), ppu decimal(2,2), tercilpup integer, tercilppu integer) PARTITIONED BY(codpais varchar(2), aniocampanaproceso varchar(6)) STORED AS PARQUET LOCATION 's3://hdata-belcorp/parquet-campaign-manager/perfil-input/' tblproperties ('parquet.compress'='SNAPPY')\\n-------^^^\\n\"\n",
      "\n"
     ]
    }
   ],
   "source": [
    "\n",
    "#spark.sql('describe perfilinput').show()\n",
    "spark.sql(\"create hive table tblpq_perfilinput (  \"\n",
    "         \"aniocampanaexposicion varchar(6), \"\n",
    "         \"codebelista varchar(15), \"\n",
    "         \"pup_lbel decimal(24,4), \"\n",
    "         \"pup_esika decimal(24,4), \"\n",
    "         \"pup_cyzone decimal(24,4), \"\n",
    "         \"pup_cp decimal(24,4), \"\n",
    "         \"pup_fg decimal(24,4), \"\n",
    "         \"pup_mq decimal(24,4), \"\n",
    "         \"pup_tc decimal(24,4), \"\n",
    "         \"pup_tf decimal(24,4), \"\n",
    "         \"pup_lbel_cp decimal(24,4), \"\n",
    "         \"pup_lbel_fg decimal(24,4), \"\n",
    "         \"pup_lbel_mq decimal(24,4), \"\n",
    "         \"pup_lbel_tc decimal(24,4), \"\n",
    "         \"pup_lbel_tf decimal(24,4), \"\n",
    "         \"pup_esika_cp decimal(24,4), \"\n",
    "         \"pup_esika_fg decimal(24,4), \"\n",
    "         \"pup_esika_mq decimal(24,4), \"\n",
    "         \"pup_esika_tc decimal(24,4), \"\n",
    "         \"pup_esika_tf decimal(24,4), \"\n",
    "         \"pup_cyzone_cp decimal(24,4), \"\n",
    "         \"pup_cyzone_fg decimal(24,4), \"\n",
    "         \"pup_cyzone_mq decimal(24,4), \"\n",
    "         \"pup_cyzone_tc decimal(24,4), \"\n",
    "         \"pup_cyzone_tf decimal(24,4), \"\n",
    "         \"ppu_lbel decimal(24,4), \"\n",
    "         \"ppu_esika decimal(24,4), \"\n",
    "         \"ppu_cyzone decimal(24,4), \"\n",
    "         \"ppu_cp decimal(24,4), \"\n",
    "         \"ppu_fg decimal(24,4), \"\n",
    "         \"ppu_mq decimal(24,4), \"\n",
    "         \"ppu_tc decimal(24,4), \"\n",
    "         \"ppu_tf decimal(24,4), \"\n",
    "         \"ppu_lbel_cp decimal(28,8), \"\n",
    "         \"ppu_lbel_fg decimal(28,8), \"\n",
    "         \"ppu_lbel_mq decimal(28,8), \"\n",
    "         \"ppu_lbel_tc decimal(28,8), \"\n",
    "         \"ppu_lbel_tf decimal(28,8), \"\n",
    "         \"ppu_esika_cp decimal(28,8), \"\n",
    "         \"ppu_esika_fg decimal(28,8), \"\n",
    "         \"ppu_esika_mq decimal(28,8), \"\n",
    "         \"ppu_esika_tc decimal(28,8), \"\n",
    "         \"ppu_esika_tf decimal(28,8), \"\n",
    "         \"ppu_cyzone_cp decimal(28,8), \"\n",
    "         \"ppu_cyzone_fg decimal(28,8), \"\n",
    "         \"ppu_cyzone_mq decimal(28,8), \"\n",
    "         \"ppu_cyzone_tc decimal(28,8), \"\n",
    "         \"ppu_cyzone_tf decimal(28,8), \"\n",
    "         \"pup decimal(2,2), \"\n",
    "         \"ppu decimal(2,2), \"\n",
    "         \"tercilpup integer, \"\n",
    "         \"tercilppu integer) \"\n",
    "         \"PARTITIONED BY(codpais varchar(2), aniocampanaproceso varchar(6)) \"\n",
    "         \"STORED AS PARQUET \"\n",
    "         \"LOCATION 's3://hdata-belcorp/parquet-campaign-manager/perfil-input/' \"\n",
    "         \"tblproperties ('parquet.compress'='SNAPPY')\")"
   ]
  },
  {
   "cell_type": "code",
   "execution_count": 28,
   "metadata": {},
   "outputs": [],
   "source": [
    "df_pup_calculo = sqlContext.sql(\" Select aniocampanaexposicion, aniocampanaproceso, codpais, codebelista, \"\n",
    "                                \" pup_lbel/(pup_lbel+pup_esika+pup_cyzone) as pup_lbel, \"\n",
    "                                \" pup_esika/(pup_lbel+pup_esika+pup_cyzone) as pup_esika, \" \n",
    "                                \" pup_cyzone/(pup_lbel+pup_esika+pup_cyzone) as pup_cyzone \"\n",
    "                                \" from perfilinput \")\n",
    "\n",
    "df_pup_calculo.registerTempTable(\"pup_calculo\")"
   ]
  },
  {
   "cell_type": "code",
   "execution_count": 29,
   "metadata": {},
   "outputs": [],
   "source": [
    "df_categoria_calculo =sqlContext.sql(\" Select aniocampanaexposicion, aniocampanaproceso, codpais, codebelista, \" \n",
    "                                \" pup_cp/(pup_cp+pup_fg+pup_mq+pup_tc+pup_tf) as pup_cp, pup_fg/(pup_cp+pup_fg+pup_mq+pup_tc+pup_tf) as pup_fg, \"\n",
    "                                \" pup_mq/(pup_cp+pup_fg+pup_mq+pup_tc+pup_tf) as pup_mq, pup_tc/(pup_cp+pup_fg+pup_mq+pup_tc+pup_tf) as pup_tc, \"\n",
    "                                \" pup_tf/(pup_cp+pup_fg+pup_mq+pup_tc+pup_tf) as pup_tf  \"\n",
    "                                \" from perfilinput \")\n",
    "\n",
    "df_categoria_calculo.registerTempTable(\"categoria_calculo\")"
   ]
  },
  {
   "cell_type": "code",
   "execution_count": 30,
   "metadata": {},
   "outputs": [],
   "source": [
    "df_metricas_calculo = sqlContext.sql(\" select aniocampanaexposicion, aniocampanaproceso, codpais, codebelista, \"\n",
    "                                     \" max(ppu_lbel) as ppu_lbel_max, min(ppu_lbel) as ppu_lbel_min, \" \n",
    "                                     \" max(ppu_esika) as ppu_esika_max, min(ppu_esika) as ppu_esika_min, \" \n",
    "                                     \" max(ppu_cyzone) as ppu_cyzone_max, min(ppu_cyzone) as ppu_cyzone_min, \"\n",
    "                                     \" max(ppu_cp) as ppu_cp_max, min(ppu_cp) as ppu_cp_min, \"\n",
    "                                     \" max(ppu_fg) as ppu_fg_max, min(ppu_fg) as ppu_fg_min, \"\n",
    "                                     \" max(ppu_mq) as ppu_mq_max, min(ppu_mq) as ppu_mq_min, \"\n",
    "                                     \" max(ppu_tc) as ppu_tc_max, min(ppu_tc) as ppu_tc_min, \"\n",
    "                                     \" max(ppu_tf) as ppu_tf_max, min(ppu_tf) as ppu_tf_min \"\n",
    "                                     \" from perfilinput \"\n",
    "                                     \" group by aniocampanaexposicion, aniocampanaproceso, codpais, codebelista \")\n",
    "df_metricas_calculo.registerTempTable(\"metricas_calculo\")"
   ]
  },
  {
   "cell_type": "code",
   "execution_count": 31,
   "metadata": {},
   "outputs": [],
   "source": [
    "df_homogenizacion_ppu_marca_input = sqlContext.sql(\" Select a.aniocampanaexposicion, a.aniocampanaproceso, a.codpais, a.codebelista, \"\n",
    "                                         \" (a.ppu_lbel - b.ppu_lbel_min)/(b.ppu_lbel_max - b.ppu_lbel_min) as ppu_lbel, \"\n",
    "                                         \" (a.ppu_esika - b.ppu_esika_min)/(b.ppu_esika_max - b.ppu_esika_min) as ppu_esika, \"\n",
    "                                         \" (a.ppu_cyzone - b.ppu_cyzone_min)/(b.ppu_cyzone_max - b.ppu_cyzone_min) as ppu_cyzone \"\n",
    "                                         \" from perfilinput a \"\n",
    "                                         \" inner join metricas_calculo b on b.aniocampanaexposicion=a.aniocampanaexposicion and \"\n",
    "                                         \" b.aniocampanaproceso=a.aniocampanaproceso and b.codpais=a.codpais and \"\n",
    "                                         \" b.codebelista=a.codebelista \")\n",
    "\n",
    "df_homogenizacion_ppu_marca_input.registerTempTable(\"homogenizacion_ppu_marca_input\")"
   ]
  },
  {
   "cell_type": "code",
   "execution_count": 32,
   "metadata": {},
   "outputs": [],
   "source": [
    "df_homogenizacion_ppu_categoria_input = sqlContext.sql(\" Select a.aniocampanaexposicion, a.aniocampanaproceso, a.codpais, a.codebelista, \"\n",
    "                                                       \n",
    "                                         \" (a.ppu_lbel - b.ppu_lbel_min)/(b.ppu_lbel_max - b.ppu_lbel_min) as ppu_lbel, \"                                                       \n",
    "                                         \" (a.ppu_esika - b.ppu_esika_min)/(b.ppu_esika_max - b.ppu_esika_min) as ppu_esika, \"\n",
    "                                         \" (a.ppu_cyzone - b.ppu_cyzone_min)/(b.ppu_cyzone_max - b.ppu_cyzone_min) as ppu_cyzone, \"\n",
    "                                                       \n",
    "                                         \" (a.ppu_cp - b.ppu_cp_min)/(b.ppu_cp_max - b.ppu_cp_min) as ppu_cp, \"\n",
    "                                         \" (a.ppu_fg - b.ppu_fg_min)/(b.ppu_fg_max - b.ppu_fg_min) as ppu_fg, \"\n",
    "                                         \" (a.ppu_mq - b.ppu_mq_min)/(b.ppu_mq_max - b.ppu_mq_min) as ppu_mq, \"\n",
    "                                         \" (a.ppu_tc - b.ppu_tc_min)/(b.ppu_tc_max - b.ppu_tc_min) as ppu_tc, \"\n",
    "                                         \" (a.ppu_tf - b.ppu_tf_min)/(b.ppu_tf_max - b.ppu_tf_min) as ppu_tf \"                                                       \n",
    "                                         \n",
    "                                         \" from perfilinput a \"\n",
    "                                         \" inner join metricas_calculo b on b.aniocampanaexposicion=a.aniocampanaexposicion and \"\n",
    "                                         \" b.aniocampanaproceso=a.aniocampanaproceso and b.codpais=a.codpais and \"\n",
    "                                         \" b.codebelista=a.codebelista \")\n",
    "\n",
    "df_homogenizacion_ppu_categoria_input.registerTempTable(\"homogenizacion_ppu_categoria_input\")"
   ]
  },
  {
   "cell_type": "code",
   "execution_count": 54,
   "metadata": {},
   "outputs": [],
   "source": [
    "df_data_perfil = sqlContext.sql(\" Select b.pup_lbel, b.pup_cyzone , c.pup_cp, c.pup_mq, c.pup_tc, a.ppu_fg \"                                                       \n",
    "                                 \" from homogenizacion_ppu_categoria_input a \"\n",
    "                                 \" inner join pup_calculo b on b.aniocampanaexposicion=a.aniocampanaexposicion and \"\n",
    "                                 \" b.aniocampanaproceso=a.aniocampanaproceso and b.codpais=a.codpais and \"\n",
    "                                 \" b.codebelista=a.codebelista \"\n",
    "                                 \" inner join categoria_calculo c on c.aniocampanaexposicion=a.aniocampanaexposicion and \"\n",
    "                                 \" c.aniocampanaproceso=a.aniocampanaproceso and c.codpais=a.codpais and \"\n",
    "                                 \" c.codebelista=a.codebelista\")\n",
    "\n",
    "df_data_perfil.registerTempTable(\"data_perfil\")"
   ]
  },
  {
   "cell_type": "code",
   "execution_count": 57,
   "metadata": {},
   "outputs": [],
   "source": [
    "pdf = df_data_perfil.toPandas()"
   ]
  },
  {
   "cell_type": "code",
   "execution_count": 37,
   "metadata": {},
   "outputs": [],
   "source": [
    "import boto3\n",
    "import boto3.session\n",
    "\n",
    "session = boto3.session.Session(region_name='us-east-1')\n",
    "s3client = session.client('s3', config= boto3.session.Config(signature_version='s3v4'))\n",
    "\n",
    "response = s3client.get_object(Bucket='hdata-belcorp', Key='perfiles-pickles/'+ \"Modelo\" + codpais + \".pkl\"'')\n"
   ]
  },
  {
   "cell_type": "code",
   "execution_count": 38,
   "metadata": {},
   "outputs": [
    {
     "name": "stdout",
     "output_type": "stream",
     "text": [
      "/usr/local/lib64/python3.4/site-packages/sklearn/base.py:311: UserWarning: Trying to unpickle estimator KMeans from version 0.19.1 when using version 0.19.2. This might lead to breaking code or invalid results. Use at your own risk.\n",
      "  UserWarning)"
     ]
    }
   ],
   "source": [
    "import pickle\n",
    "\n",
    "body_string = response['Body'].read()\n",
    "kmeans = pickle.loads(body_string)"
   ]
  },
  {
   "cell_type": "code",
   "execution_count": 43,
   "metadata": {},
   "outputs": [],
   "source": [
    "pdf = df_homogenizacion_ppu_categoria_input.toPandas()\n"
   ]
  },
  {
   "cell_type": "code",
   "execution_count": 45,
   "metadata": {},
   "outputs": [
    {
     "name": "stdout",
     "output_type": "stream",
     "text": [
      "aniocampanaexposicion    object\n",
      "aniocampanaproceso       object\n",
      "codpais                  object\n",
      "codebelista              object\n",
      "ppu_lbel                 object\n",
      "ppu_esika                object\n",
      "ppu_cyzone               object\n",
      "ppu_cp                   object\n",
      "ppu_fg                   object\n",
      "ppu_mq                   object\n",
      "ppu_tc                   object\n",
      "ppu_tf                   object\n",
      "dtype: object"
     ]
    }
   ],
   "source": [
    "pdf.ppu_lbel.astype='float'"
   ]
  },
  {
   "cell_type": "code",
   "execution_count": 58,
   "metadata": {},
   "outputs": [
    {
     "name": "stderr",
     "output_type": "stream",
     "text": [
      "Input contains NaN, infinity or a value too large for dtype('float64').\n",
      "Traceback (most recent call last):\n",
      "  File \"/usr/local/lib64/python3.4/site-packages/sklearn/cluster/k_means_.py\", line 988, in predict\n",
      "    X = self._check_test_data(X)\n",
      "  File \"/usr/local/lib64/python3.4/site-packages/sklearn/cluster/k_means_.py\", line 865, in _check_test_data\n",
      "    X = check_array(X, accept_sparse='csr', dtype=FLOAT_DTYPES)\n",
      "  File \"/usr/local/lib64/python3.4/site-packages/sklearn/utils/validation.py\", line 453, in check_array\n",
      "    _assert_all_finite(array)\n",
      "  File \"/usr/local/lib64/python3.4/site-packages/sklearn/utils/validation.py\", line 44, in _assert_all_finite\n",
      "    \" or a value too large for %r.\" % X.dtype)\n",
      "ValueError: Input contains NaN, infinity or a value too large for dtype('float64').\n",
      "\n"
     ]
    }
   ],
   "source": [
    "\n",
    "predict  = kmeans.predict(pdf)"
   ]
  },
  {
   "cell_type": "code",
   "execution_count": 33,
   "metadata": {},
   "outputs": [
    {
     "name": "stdout",
     "output_type": "stream",
     "text": [
      "root\n",
      " |-- aniocampanaexposicion: string (nullable = false)\n",
      " |-- aniocampanaproceso: string (nullable = false)\n",
      " |-- codpais: string (nullable = true)\n",
      " |-- codebelista: string (nullable = true)\n",
      " |-- ppu_lbel: decimal(38,13) (nullable = true)\n",
      " |-- ppu_esika: decimal(38,13) (nullable = true)\n",
      " |-- ppu_cyzone: decimal(38,13) (nullable = true)\n",
      " |-- ppu_cp: decimal(38,13) (nullable = true)\n",
      " |-- ppu_fg: decimal(38,13) (nullable = true)\n",
      " |-- ppu_mq: decimal(38,13) (nullable = true)\n",
      " |-- ppu_tc: decimal(38,13) (nullable = true)\n",
      " |-- ppu_tf: decimal(38,13) (nullable = true)"
     ]
    }
   ],
   "source": [
    "df_homogenizacion_ppu_categoria_input.printSchema()"
   ]
  },
  {
   "cell_type": "code",
   "execution_count": 34,
   "metadata": {},
   "outputs": [
    {
     "name": "stderr",
     "output_type": "stream",
     "text": [
      "An error was encountered:\n",
      "Invalid status code '404' from http://ip-10-12-6-170.ec2.internal:8998/sessions/15 with error payload: \"Session '15' not found.\"\n"
     ]
    }
   ],
   "source": [
    "import boto3\n",
    "import boto3.session"
   ]
  },
  {
   "cell_type": "code",
   "execution_count": 106,
   "metadata": {},
   "outputs": [
    {
     "name": "stdout",
     "output_type": "stream",
     "text": [
      "root\n",
      " |-- aniocampanaexposicion: string (nullable = false)\n",
      " |-- aniocampanaproceso: string (nullable = false)\n",
      " |-- codpais: string (nullable = true)\n",
      " |-- codebelista: string (nullable = true)\n",
      " |-- pup_lbel: decimal(24,4) (nullable = true)\n",
      " |-- pup_esika: decimal(24,4) (nullable = true)\n",
      " |-- pup_cyzone: decimal(24,4) (nullable = true)\n",
      " |-- pup_cp: decimal(24,4) (nullable = true)\n",
      " |-- pup_fg: decimal(24,4) (nullable = true)\n",
      " |-- pup_mq: decimal(24,4) (nullable = true)\n",
      " |-- pup_tc: decimal(24,4) (nullable = true)\n",
      " |-- pup_tf: decimal(24,4) (nullable = true)\n",
      " |-- pup_lbel_cp: decimal(24,4) (nullable = true)\n",
      " |-- pup_lbel_fg: decimal(24,4) (nullable = true)\n",
      " |-- pup_lbel_mq: decimal(24,4) (nullable = true)\n",
      " |-- pup_lbel_tc: decimal(24,4) (nullable = true)\n",
      " |-- pup_lbel_tf: decimal(24,4) (nullable = true)\n",
      " |-- pup_esika_cp: decimal(24,4) (nullable = true)\n",
      " |-- pup_esika_fg: decimal(24,4) (nullable = true)\n",
      " |-- pup_esika_mq: decimal(24,4) (nullable = true)\n",
      " |-- pup_esika_tc: decimal(24,4) (nullable = true)\n",
      " |-- pup_esika_tf: decimal(24,4) (nullable = true)\n",
      " |-- pup_cyzone_cp: decimal(24,4) (nullable = true)\n",
      " |-- pup_cyzone_fg: decimal(24,4) (nullable = true)\n",
      " |-- pup_cyzone_mq: decimal(24,4) (nullable = true)\n",
      " |-- pup_cyzone_tc: decimal(24,4) (nullable = true)\n",
      " |-- pup_cyzone_tf: decimal(24,4) (nullable = true)\n",
      " |-- ppu_lbel: decimal(24,4) (nullable = true)\n",
      " |-- ppu_esika: decimal(24,4) (nullable = true)\n",
      " |-- ppu_cyzone: decimal(24,4) (nullable = true)\n",
      " |-- ppu_cp: decimal(24,4) (nullable = true)\n",
      " |-- ppu_fg: decimal(24,4) (nullable = true)\n",
      " |-- ppu_mq: decimal(24,4) (nullable = true)\n",
      " |-- ppu_tc: decimal(24,4) (nullable = true)\n",
      " |-- ppu_tf: decimal(24,4) (nullable = true)\n",
      " |-- ppu_lbel_cp: decimal(28,8) (nullable = true)\n",
      " |-- ppu_lbel_fg: decimal(28,8) (nullable = true)\n",
      " |-- ppu_lbel_mq: decimal(28,8) (nullable = true)\n",
      " |-- ppu_lbel_tc: decimal(28,8) (nullable = true)\n",
      " |-- ppu_lbel_tf: decimal(28,8) (nullable = true)\n",
      " |-- ppu_esika_cp: decimal(28,8) (nullable = true)\n",
      " |-- ppu_esika_fg: decimal(28,8) (nullable = true)\n",
      " |-- ppu_esika_mq: decimal(28,8) (nullable = true)\n",
      " |-- ppu_esika_tc: decimal(28,8) (nullable = true)\n",
      " |-- ppu_esika_tf: decimal(28,8) (nullable = true)\n",
      " |-- ppu_cyzone_cp: decimal(28,8) (nullable = true)\n",
      " |-- ppu_cyzone_fg: decimal(28,8) (nullable = true)\n",
      " |-- ppu_cyzone_mq: decimal(28,8) (nullable = true)\n",
      " |-- ppu_cyzone_tc: decimal(28,8) (nullable = true)\n",
      " |-- ppu_cyzone_tf: decimal(28,8) (nullable = true)\n",
      " |-- pup: decimal(2,2) (nullable = false)\n",
      " |-- ppu: decimal(2,2) (nullable = false)\n",
      " |-- tercilpup: integer (nullable = false)\n",
      " |-- tercilppu: integer (nullable = false)"
     ]
    }
   ],
   "source": [
    "df_perfilinput.printSchema()"
   ]
  },
  {
   "cell_type": "code",
   "execution_count": 49,
   "metadata": {},
   "outputs": [],
   "source": [
    "sqlContext.dropTempTable(\"conteocategorias\")"
   ]
  },
  {
   "cell_type": "code",
   "execution_count": 26,
   "metadata": {},
   "outputs": [
    {
     "name": "stdout",
     "output_type": "stream",
     "text": [
      "+-------+-----------+\n",
      "|codpais|codebelista|\n",
      "+-------+-----------+\n",
      "|     PE|  031969921|\n",
      "|     PE|  031975603|\n",
      "|     PE|  031975603|\n",
      "|     PE|  031981166|\n",
      "|     PE|  031981166|\n",
      "|     PE|  031980224|\n",
      "|     PE|  031980224|\n",
      "|     PE|  031981166|\n",
      "|     PE|  031980224|\n",
      "|     PE|  031980224|\n",
      "|     PE|  031981166|\n",
      "|     PE|  031980224|\n",
      "|     PE|  031981166|\n",
      "|     PE|  031980224|\n",
      "|     PE|  031975603|\n",
      "|     PE|  031975603|\n",
      "|     PE|  031980224|\n",
      "|     PE|  031975603|\n",
      "|     PE|  031975603|\n",
      "|     PE|  031981166|\n",
      "+-------+-----------+\n",
      "only showing top 20 rows"
     ]
    }
   ],
   "source": [
    "#ventas_consultora = sqlContext.sql(\"SELECT * FROM parquetFile where codpais='CO' and aniocampana='201807' limit 100\")\n",
    "ventas_consultora = sqlContext.sql(\"SELECT codpais, aniocampana, codebelista FROM fvtaproebecam where codpais='PE' and aniocampana='201707' limit 100\")\n",
    "cols1 = ['codpais', 'codebelista']\n",
    "ventas_consultora.select(cols1).show()"
   ]
  },
  {
   "cell_type": "code",
   "execution_count": 27,
   "metadata": {},
   "outputs": [
    {
     "name": "stdout",
     "output_type": "stream",
     "text": [
      "247184"
     ]
    }
   ],
   "source": [
    "dproducto."
   ]
  },
  {
   "cell_type": "code",
   "execution_count": 11,
   "metadata": {
    "scrolled": true
   },
   "outputs": [
    {
     "name": "stderr",
     "output_type": "stream",
     "text": [
      "'DataFrame' object has no attribute 'map'\n",
      "Traceback (most recent call last):\n",
      "  File \"/usr/lib/spark/python/lib/pyspark.zip/pyspark/sql/dataframe.py\", line 1182, in __getattr__\n",
      "    \"'%s' object has no attribute '%s'\" % (self.__class__.__name__, name))\n",
      "AttributeError: 'DataFrame' object has no attribute 'map'\n",
      "\n"
     ]
    }
   ],
   "source": [
    "ventas_all = ventas_consultora.map(lambda p: \"codebelista:\".format(p.codebelista, p.codpais)) #.format(p.name, p.comment_col))"
   ]
  },
  {
   "cell_type": "code",
   "execution_count": 12,
   "metadata": {},
   "outputs": [
    {
     "name": "stdout",
     "output_type": "stream",
     "text": [
      "Row(codebelista='9906728482', realventa_dolares=35.58177947998047, realuuvendidas=18, realvtamnneto=99202.0, codpais='CO', aniocampana=201807)\n",
      "Row(codebelista='9906727150', realventa_dolares=80.26578521728516, realuuvendidas=13, realvtamnneto=223781.0, codpais='CO', aniocampana=201807)\n",
      "Row(codebelista='9906719627', realventa_dolares=117.63235473632812, realuuvendidas=26, realvtamnneto=327959.0, codpais='CO', aniocampana=201807)\n",
      "Row(codebelista='9906718823', realventa_dolares=131.12088012695312, realuuvendidas=29, realvtamnneto=365565.0, codpais='CO', aniocampana=201807)\n",
      "Row(codebelista='9906718971', realventa_dolares=63.325321197509766, realuuvendidas=14, realvtamnneto=176551.0, codpais='CO', aniocampana=201807)\n",
      "Row(codebelista='9906682495', realventa_dolares=43.54519271850586, realuuvendidas=5, realvtamnneto=121404.0, codpais='CO', aniocampana=201807)\n",
      "Row(codebelista='9906686192', realventa_dolares=55.73708724975586, realuuvendidas=6, realvtamnneto=155395.0, codpais='CO', aniocampana=201807)\n",
      "Row(codebelista='9906673973', realventa_dolares=35.30272674560547, realuuvendidas=9, realvtamnneto=98424.0, codpais='CO', aniocampana=201807)\n",
      "Row(codebelista='9906656685', realventa_dolares=12.160329818725586, realuuvendidas=3, realvtamnneto=33903.0, codpais='CO', aniocampana=201807)\n",
      "Row(codebelista='9906653783', realventa_dolares=122.4698715209961, realuuvendidas=14, realvtamnneto=341446.0, codpais='CO', aniocampana=201807)\n",
      "Row(codebelista='9906632161', realventa_dolares=49.422523498535156, realuuvendidas=13, realvtamnneto=137790.0, codpais='CO', aniocampana=201807)\n",
      "Row(codebelista='9906615075', realventa_dolares=62.70480728149414, realuuvendidas=14, realvtamnneto=174821.0, codpais='CO', aniocampana=201807)\n",
      "Row(codebelista='9906600279', realventa_dolares=22.388450622558594, realuuvendidas=9, realvtamnneto=62419.0, codpais='CO', aniocampana=201807)\n",
      "Row(codebelista='9906597938', realventa_dolares=52.28873825073242, realuuvendidas=15, realvtamnneto=145781.0, codpais='CO', aniocampana=201807)\n",
      "Row(codebelista='9906589552', realventa_dolares=64.7431869506836, realuuvendidas=9, realvtamnneto=180504.0, codpais='CO', aniocampana=201807)\n",
      "Row(codebelista='9906525005', realventa_dolares=68.8267593383789, realuuvendidas=40, realvtamnneto=191889.0, codpais='CO', aniocampana=201807)\n",
      "Row(codebelista='9906502810', realventa_dolares=50.39167785644531, realuuvendidas=13, realvtamnneto=140492.0, codpais='CO', aniocampana=201807)\n",
      "Row(codebelista='9906473754', realventa_dolares=54.27654266357422, realuuvendidas=10, realvtamnneto=151323.0, codpais='CO', aniocampana=201807)\n",
      "Row(codebelista='9906459462', realventa_dolares=72.07066345214844, realuuvendidas=19, realvtamnneto=200933.0, codpais='CO', aniocampana=201807)\n",
      "Row(codebelista='9906422798', realventa_dolares=32.14167785644531, realuuvendidas=10, realvtamnneto=89611.0, codpais='CO', aniocampana=201807)\n",
      "Row(codebelista='9906401769', realventa_dolares=42.85258102416992, realuuvendidas=18, realvtamnneto=119473.0, codpais='CO', aniocampana=201807)\n",
      "Row(codebelista='9906387766', realventa_dolares=36.47704315185547, realuuvendidas=8, realvtamnneto=101698.0, codpais='CO', aniocampana=201807)\n",
      "Row(codebelista='9906382101', realventa_dolares=51.170372009277344, realuuvendidas=12, realvtamnneto=142663.0, codpais='CO', aniocampana=201807)\n",
      "Row(codebelista='9906334417', realventa_dolares=39.86119079589844, realuuvendidas=16, realvtamnneto=111133.0, codpais='CO', aniocampana=201807)\n",
      "Row(codebelista='9906184780', realventa_dolares=72.0068130493164, realuuvendidas=12, realvtamnneto=200755.0, codpais='CO', aniocampana=201807)\n",
      "Row(codebelista='9906230955', realventa_dolares=96.3593978881836, realuuvendidas=19, realvtamnneto=268650.0, codpais='CO', aniocampana=201807)\n",
      "Row(codebelista='9906194859', realventa_dolares=29.469154357910156, realuuvendidas=7, realvtamnneto=82160.0, codpais='CO', aniocampana=201807)\n",
      "Row(codebelista='9906148491', realventa_dolares=55.13665771484375, realuuvendidas=21, realvtamnneto=153721.0, codpais='CO', aniocampana=201807)\n",
      "Row(codebelista='9906138760', realventa_dolares=45.01900863647461, realuuvendidas=12, realvtamnneto=125513.0, codpais='CO', aniocampana=201807)\n",
      "Row(codebelista='9906128039', realventa_dolares=49.775108337402344, realuuvendidas=14, realvtamnneto=138773.0, codpais='CO', aniocampana=201807)\n",
      "Row(codebelista='9906085852', realventa_dolares=59.7144889831543, realuuvendidas=11, realvtamnneto=166484.0, codpais='CO', aniocampana=201807)\n",
      "Row(codebelista='9900691210', realventa_dolares=53.79304122924805, realuuvendidas=9, realvtamnneto=149975.0, codpais='CO', aniocampana=201807)\n",
      "Row(codebelista='9900676421', realventa_dolares=47.7668571472168, realuuvendidas=29, realvtamnneto=133174.0, codpais='CO', aniocampana=201807)\n",
      "Row(codebelista='9900651739', realventa_dolares=53.89167785644531, realuuvendidas=12, realvtamnneto=150250.0, codpais='CO', aniocampana=201807)\n",
      "Row(codebelista='9900650965', realventa_dolares=36.39311218261719, realuuvendidas=7, realvtamnneto=101464.0, codpais='CO', aniocampana=201807)\n",
      "Row(codebelista='9900597130', realventa_dolares=42.07316970825195, realuuvendidas=13, realvtamnneto=117300.0, codpais='CO', aniocampana=201807)\n",
      "Row(codebelista='9900563380', realventa_dolares=87.98278045654297, realuuvendidas=35, realvtamnneto=245296.0, codpais='CO', aniocampana=201807)\n",
      "Row(codebelista='9900108309', realventa_dolares=60.51291275024414, realuuvendidas=13, realvtamnneto=168710.0, codpais='CO', aniocampana=201807)\n",
      "Row(codebelista='9900211449', realventa_dolares=122.895263671875, realuuvendidas=17, realvtamnneto=342632.0, codpais='CO', aniocampana=201807)\n",
      "Row(codebelista='9900532262', realventa_dolares=50.553802490234375, realuuvendidas=12, realvtamnneto=140944.0, codpais='CO', aniocampana=201807)\n",
      "Row(codebelista='9900332885', realventa_dolares=43.74210739135742, realuuvendidas=10, realvtamnneto=121953.0, codpais='CO', aniocampana=201807)\n",
      "Row(codebelista='9900120662', realventa_dolares=56.52690124511719, realuuvendidas=12, realvtamnneto=157597.0, codpais='CO', aniocampana=201807)\n",
      "Row(codebelista='9900067225', realventa_dolares=69.4117660522461, realuuvendidas=23, realvtamnneto=193520.0, codpais='CO', aniocampana=201807)\n",
      "Row(codebelista='9900170331', realventa_dolares=56.304161071777344, realuuvendidas=15, realvtamnneto=156976.0, codpais='CO', aniocampana=201807)\n",
      "Row(codebelista='9900270889', realventa_dolares=119.77259826660156, realuuvendidas=27, realvtamnneto=333926.0, codpais='CO', aniocampana=201807)\n",
      "Row(codebelista='9900494652', realventa_dolares=34.229557037353516, realuuvendidas=8, realvtamnneto=95432.0, codpais='CO', aniocampana=201807)\n",
      "Row(codebelista='9900011349', realventa_dolares=52.52582550048828, realuuvendidas=24, realvtamnneto=146442.0, codpais='CO', aniocampana=201807)\n",
      "Row(codebelista='9900066407', realventa_dolares=42.63737487792969, realuuvendidas=10, realvtamnneto=118873.0, codpais='CO', aniocampana=201807)\n",
      "Row(codebelista='9900344191', realventa_dolares=42.27403259277344, realuuvendidas=15, realvtamnneto=117860.0, codpais='CO', aniocampana=201807)\n",
      "Row(codebelista='9900122195', realventa_dolares=59.28694534301758, realuuvendidas=14, realvtamnneto=165292.0, codpais='CO', aniocampana=201807)\n",
      "Row(codebelista='9900332275', realventa_dolares=80.81312561035156, realuuvendidas=14, realvtamnneto=225307.0, codpais='CO', aniocampana=201807)\n",
      "Row(codebelista='9900356067', realventa_dolares=95.63701629638672, realuuvendidas=15, realvtamnneto=266636.0, codpais='CO', aniocampana=201807)\n",
      "Row(codebelista='9900268767', realventa_dolares=100.25932312011719, realuuvendidas=32, realvtamnneto=279523.0, codpais='CO', aniocampana=201807)\n",
      "Row(codebelista='9900368350', realventa_dolares=29.817790985107422, realuuvendidas=9, realvtamnneto=83132.0, codpais='CO', aniocampana=201807)\n",
      "Row(codebelista='9900356860', realventa_dolares=54.31277084350586, realuuvendidas=21, realvtamnneto=151424.0, codpais='CO', aniocampana=201807)\n",
      "Row(codebelista='9900332220', realventa_dolares=38.93256759643555, realuuvendidas=26, realvtamnneto=108544.0, codpais='CO', aniocampana=201807)\n",
      "Row(codebelista='9906783583', realventa_dolares=59.9017219543457, realuuvendidas=15, realvtamnneto=167006.0, codpais='CO', aniocampana=201807)\n",
      "Row(codebelista='9906782188', realventa_dolares=48.822811126708984, realuuvendidas=15, realvtamnneto=136118.0, codpais='CO', aniocampana=201807)\n",
      "Row(codebelista='9906782266', realventa_dolares=93.20983123779297, realuuvendidas=17, realvtamnneto=259869.0, codpais='CO', aniocampana=201807)\n",
      "Row(codebelista='9906781246', realventa_dolares=51.57316970825195, realuuvendidas=12, realvtamnneto=143786.0, codpais='CO', aniocampana=201807)\n",
      "Row(codebelista='9906778622', realventa_dolares=33.29878234863281, realuuvendidas=13, realvtamnneto=92837.0, codpais='CO', aniocampana=201807)\n",
      "Row(codebelista='9906778091', realventa_dolares=77.85509490966797, realuuvendidas=27, realvtamnneto=217060.0, codpais='CO', aniocampana=201807)\n",
      "Row(codebelista='9906775854', realventa_dolares=32.89167785644531, realuuvendidas=8, realvtamnneto=91702.0, codpais='CO', aniocampana=201807)\n",
      "Row(codebelista='9906775853', realventa_dolares=79.05416107177734, realuuvendidas=12, realvtamnneto=220403.0, codpais='CO', aniocampana=201807)\n",
      "Row(codebelista='9906771480', realventa_dolares=98.67467498779297, realuuvendidas=21, realvtamnneto=275105.0, codpais='CO', aniocampana=201807)\n",
      "Row(codebelista='9906768567', realventa_dolares=38.631996154785156, realuuvendidas=12, realvtamnneto=107706.0, codpais='CO', aniocampana=201807)\n",
      "Row(codebelista='9906767898', realventa_dolares=61.114418029785156, realuuvendidas=19, realvtamnneto=170387.0, codpais='CO', aniocampana=201807)\n",
      "Row(codebelista='9906767912', realventa_dolares=52.0233154296875, realuuvendidas=16, realvtamnneto=145041.0, codpais='CO', aniocampana=201807)\n",
      "Row(codebelista='9906764133', realventa_dolares=68.05380249023438, realuuvendidas=20, realvtamnneto=189734.0, codpais='CO', aniocampana=201807)\n",
      "Row(codebelista='9906759255', realventa_dolares=37.719512939453125, realuuvendidas=11, realvtamnneto=105162.0, codpais='CO', aniocampana=201807)\n",
      "Row(codebelista='9906758559', realventa_dolares=62.31492233276367, realuuvendidas=15, realvtamnneto=173734.0, codpais='CO', aniocampana=201807)\n",
      "Row(codebelista='9906756707', realventa_dolares=50.877689361572266, realuuvendidas=12, realvtamnneto=141847.0, codpais='CO', aniocampana=201807)\n",
      "Row(codebelista='9906750916', realventa_dolares=28.634145736694336, realuuvendidas=8, realvtamnneto=79832.0, codpais='CO', aniocampana=201807)\n",
      "Row(codebelista='9906750102', realventa_dolares=113.5165023803711, realuuvendidas=25, realvtamnneto=316484.0, codpais='CO', aniocampana=201807)\n",
      "Row(codebelista='9906750368', realventa_dolares=92.12266540527344, realuuvendidas=21, realvtamnneto=256838.0, codpais='CO', aniocampana=201807)\n",
      "Row(codebelista='9906746762', realventa_dolares=66.11441802978516, realuuvendidas=20, realvtamnneto=184327.0, codpais='CO', aniocampana=201807)\n",
      "Row(codebelista='9906742497', realventa_dolares=71.36585235595703, realuuvendidas=13, realvtamnneto=198968.0, codpais='CO', aniocampana=201807)\n",
      "Row(codebelista='9906739939', realventa_dolares=66.55774688720703, realuuvendidas=9, realvtamnneto=185563.0, codpais='CO', aniocampana=201807)\n",
      "Row(codebelista='9906737476', realventa_dolares=50.625179290771484, realuuvendidas=21, realvtamnneto=141143.0, codpais='CO', aniocampana=201807)\n",
      "Row(codebelista='9906731041', realventa_dolares=47.293399810791016, realuuvendidas=21, realvtamnneto=131854.0, codpais='CO', aniocampana=201807)\n",
      "Row(codebelista='9906729894', realventa_dolares=46.966285705566406, realuuvendidas=17, realvtamnneto=130942.0, codpais='CO', aniocampana=201807)\n",
      "Row(codebelista='9906723710', realventa_dolares=49.42683029174805, realuuvendidas=15, realvtamnneto=137802.0, codpais='CO', aniocampana=201807)\n",
      "Row(codebelista='9906720725', realventa_dolares=36.267574310302734, realuuvendidas=9, realvtamnneto=101114.0, codpais='CO', aniocampana=201807)\n",
      "Row(codebelista='9906703207', realventa_dolares=59.17934036254883, realuuvendidas=8, realvtamnneto=164992.0, codpais='CO', aniocampana=201807)\n",
      "Row(codebelista='9906685248', realventa_dolares=160.10760498046875, realuuvendidas=29, realvtamnneto=446380.0, codpais='CO', aniocampana=201807)\n",
      "Row(codebelista='9906676939', realventa_dolares=65.78156280517578, realuuvendidas=14, realvtamnneto=183399.0, codpais='CO', aniocampana=201807)\n",
      "Row(codebelista='9906675543', realventa_dolares=53.83930969238281, realuuvendidas=14, realvtamnneto=150104.0, codpais='CO', aniocampana=201807)\n",
      "Row(codebelista='9906671738', realventa_dolares=54.40494918823242, realuuvendidas=27, realvtamnneto=151681.0, codpais='CO', aniocampana=201807)\n",
      "Row(codebelista='9906669222', realventa_dolares=53.13450622558594, realuuvendidas=23, realvtamnneto=148139.0, codpais='CO', aniocampana=201807)\n",
      "Row(codebelista='9906661398', realventa_dolares=74.395263671875, realuuvendidas=15, realvtamnneto=207414.0, codpais='CO', aniocampana=201807)\n",
      "Row(codebelista='9906653036', realventa_dolares=126.31097412109375, realuuvendidas=26, realvtamnneto=352155.0, codpais='CO', aniocampana=201807)\n",
      "Row(codebelista='9906622768', realventa_dolares=60.417503356933594, realuuvendidas=12, realvtamnneto=168444.0, codpais='CO', aniocampana=201807)\n",
      "Row(codebelista='9906607698', realventa_dolares=81.84074401855469, realuuvendidas=20, realvtamnneto=228172.0, codpais='CO', aniocampana=201807)\n",
      "Row(codebelista='9906587485', realventa_dolares=60.2855110168457, realuuvendidas=22, realvtamnneto=168076.0, codpais='CO', aniocampana=201807)\n",
      "Row(codebelista='9906548276', realventa_dolares=62.53622817993164, realuuvendidas=13, realvtamnneto=174351.0, codpais='CO', aniocampana=201807)\n",
      "Row(codebelista='9906520113', realventa_dolares=43.469512939453125, realuuvendidas=21, realvtamnneto=121193.0, codpais='CO', aniocampana=201807)\n",
      "Row(codebelista='9906465606', realventa_dolares=48.338951110839844, realuuvendidas=19, realvtamnneto=134769.0, codpais='CO', aniocampana=201807)\n",
      "Row(codebelista='9906429931', realventa_dolares=84.29698944091797, realuuvendidas=17, realvtamnneto=235020.0, codpais='CO', aniocampana=201807)\n",
      "Row(codebelista='9906380983', realventa_dolares=124.6814956665039, realuuvendidas=40, realvtamnneto=347612.0, codpais='CO', aniocampana=201807)\n",
      "Row(codebelista='9906359826', realventa_dolares=40.83070373535156, realuuvendidas=7, realvtamnneto=113836.0, codpais='CO', aniocampana=201807)"
     ]
    }
   ],
   "source": [
    "for nation in ventas_consultora.collect():\n",
    "    print(nation)"
   ]
  }
 ],
 "metadata": {
  "kernelspec": {
   "display_name": "PySpark3",
   "language": "",
   "name": "pyspark3kernel"
  },
  "language_info": {
   "codemirror_mode": {
    "name": "python",
    "version": 3
   },
   "mimetype": "text/x-python",
   "name": "pyspark3",
   "pygments_lexer": "python3"
  }
 },
 "nbformat": 4,
 "nbformat_minor": 2
}
